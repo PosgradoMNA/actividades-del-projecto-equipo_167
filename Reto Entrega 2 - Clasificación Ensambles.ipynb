{
  "cells": [
    {
      "cell_type": "markdown",
      "metadata": {
        "id": "view-in-github",
        "colab_type": "text"
      },
      "source": [
        "<a href=\"https://colab.research.google.com/github/PosgradoMNA/actividades-del-projecto-equipo_167/blob/main/Reto%20Entrega%202%20-%20Clasificaci%C3%B3n%20Ensambles.ipynb\" target=\"_parent\"><img src=\"https://colab.research.google.com/assets/colab-badge.svg\" alt=\"Open In Colab\"/></a>"
      ]
    },
    {
      "cell_type": "markdown",
      "metadata": {
        "id": "17en2ieh9CLe"
      },
      "source": [
        "# **Reto-> Entrega 2 (18/11) -> Clasificación Ensambles**\n",
        "\n",
        "**Integrantes:** \n",
        "\n",
        "Genaro Rodriguez Vazquez A01150931\n",
        "\n",
        "Javier Rodríguez Rudas A01793817\n",
        "\n",
        "**Materia:** Ciencia y analítica de Datos\n",
        "\n",
        "**Profesor:** Dr. Jobish Vallikavungal Devassia  \n",
        "\n",
        "**Fecha:** 18 Noviembre 2022\n",
        "\n",
        "\n",
        "\n",
        "\n"
      ]
    },
    {
      "cell_type": "markdown",
      "source": [
        "# **Reto #2 -> Clasificación-ensambles y presentación ejecutiva.**"
      ],
      "metadata": {
        "id": "FCH6OSqY31yE"
      }
    },
    {
      "cell_type": "code",
      "source": [
        "import numpy as np\n",
        "import pandas as pd\n",
        "import matplotlib.pyplot as plt\n",
        "#from mplcursors import cursor \n",
        "import scipy\n",
        "\n",
        "from sklearn.model_selection import train_test_split\n",
        "from sklearn.preprocessing import StandardScaler, OneHotEncoder\n",
        "\n",
        "#For pipeline creation\n",
        "from sklearn.pipeline import Pipeline\n",
        "from sklearn.compose import ColumnTransformer\n",
        "from sklearn.preprocessing import MinMaxScaler\n",
        "\n",
        "#For scoring RMSE, MAE y MAPE\n",
        "from sklearn.model_selection import RepeatedStratifiedKFold\n",
        "from sklearn.metrics import classification_report, make_scorer\n",
        "from sklearn.model_selection import cross_validate \n",
        "from sklearn.metrics import mean_absolute_percentage_error\n",
        "\n",
        "#Gridsearch and importance\n",
        "from sklearn.model_selection import GridSearchCV\n",
        "from sklearn.inspection import permutation_importance\n",
        "\n",
        "from sklearn.preprocessing import power_transform\n",
        "from sklearn.impute import SimpleImputer\n",
        "import math as math\n",
        "\n",
        "\n",
        "from sklearn.metrics import recall_score, accuracy_score, precision_score, f1_score\n",
        "from sklearn import svm\n",
        "from sklearn.metrics import confusion_matrix, precision_recall_curve\n",
        "from sklearn.model_selection import learning_curve, validation_curve\n",
        "from sklearn import metrics\n",
        "from sklearn.metrics import roc_curve,plot_roc_curve, balanced_accuracy_score\n",
        "import seaborn as sns\n",
        "from matplotlib import rcParams\n",
        "\n",
        "#import geopandas as gpd\n",
        "#from  geopandas import GeoDataFrame\n",
        "from shapely.geometry import Point\n",
        "from sklearn import preprocessing, cluster\n",
        "\n",
        "scaler = StandardScaler()\n",
        "pd.options.display.max_columns = None\n",
        "\n",
        "import warnings\n",
        "warnings.filterwarnings(\"ignore\")"
      ],
      "metadata": {
        "id": "Rx4Vp2CbtQV8"
      },
      "execution_count": null,
      "outputs": []
    },
    {
      "cell_type": "code",
      "source": [
        "df_reto2 = pd.read_csv('/content/sample_data/Datos_de_calidad_del_agua_de_sitios_de_monitoreo_de_aguas_subterraneas_2020.csv', \n",
        "                    index_col=None ,encoding='utf-8',encoding_errors='ignore')\n",
        "df_reto2.head()"
      ],
      "metadata": {
        "colab": {
          "base_uri": "https://localhost:8080/",
          "height": 392
        },
        "id": "MV4jUSKKtXjN",
        "outputId": "c5289e77-696a-432c-9aae-9c54b4bd535c"
      },
      "execution_count": null,
      "outputs": [
        {
          "output_type": "execute_result",
          "data": {
            "text/plain": [
              "       CLAVE                  SITIO           ORGANISMO_DE_CUENCA  \\\n",
              "0     DLAGU6           POZO SAN GIL       LERMA SANTIAGO PACIFICO   \n",
              "1  DLAGU6516  POZO R013 CAADA HONDA       LERMA SANTIAGO PACIFICO   \n",
              "2     DLAGU7             POZO COSIO       LERMA SANTIAGO PACIFICO   \n",
              "3     DLAGU9     POZO EL SALITRILLO       LERMA SANTIAGO PACIFICO   \n",
              "4   DLBAJ107     RANCHO EL TECOLOTE  PENINSULA DE BAJA CALIFORNIA   \n",
              "\n",
              "                ESTADO        MUNICIPIO                 ACUIFERO SUBTIPO  \\\n",
              "0       AGUASCALIENTES         ASIENTOS       VALLE DE CHICALOTE    POZO   \n",
              "1       AGUASCALIENTES   AGUASCALIENTES       VALLE DE CHICALOTE    POZO   \n",
              "2       AGUASCALIENTES            COSIO  VALLE DE AGUASCALIENTES    POZO   \n",
              "3       AGUASCALIENTES  RINCON DE ROMOS  VALLE DE AGUASCALIENTES    POZO   \n",
              "4  BAJA CALIFORNIA SUR           LA PAZ             TODOS SANTOS    POZO   \n",
              "\n",
              "    LONGITUD   LATITUD  PERIODO  ALC_mg/L CALIDAD_ALC  CONDUCT_mS/cm  \\\n",
              "0 -102.02210  22.20887     2020   229.990        Alta          940.0   \n",
              "1 -102.20075  21.99958     2020   231.990        Alta          608.0   \n",
              "2 -102.28801  22.36685     2020   204.920        Alta          532.0   \n",
              "3 -102.29449  22.18435     2020   327.000        Alta          686.0   \n",
              "4 -110.24480  23.45138     2020   309.885        Alta         1841.0   \n",
              "\n",
              "          CALIDAD_CONDUC  SDT_mg/L SDT_M_mg/L                CALIDAD_SDT_ra  \\\n",
              "0  Permisible para riego       NaN      603.6            Cultivos sensibles   \n",
              "1       Buena para riego       NaN      445.4          Excelente para riego   \n",
              "2       Buena para riego       NaN        342          Excelente para riego   \n",
              "3       Buena para riego       NaN      478.6          Excelente para riego   \n",
              "4  Permisible para riego       NaN       1179  Cultivos con manejo especial   \n",
              "\n",
              "      CALIDAD_SDT_salin FLUORUROS_mg/L      CALIDAD_FLUO  DUR_mg/L  \\\n",
              "0       Potable - Dulce         0.9766  Potable - Optima   213.732   \n",
              "1       Potable - Dulce         0.9298  Potable - Optima  185.0514   \n",
              "2       Potable - Dulce         1.8045              Alta   120.719   \n",
              "3       Potable - Dulce         1.1229  Potable - Optima   199.879   \n",
              "4  Ligeramente salobres         0.2343              Baja  476.9872   \n",
              "\n",
              "      CALIDAD_DUR COLI_FEC_NMP/100_mL     CALIDAD_COLI_FEC N_NO3_mg/L  \\\n",
              "0  Potable - Dura                <1.1  Potable - Excelente   4.184656   \n",
              "1  Potable - Dura                <1.1  Potable - Excelente    5.75011   \n",
              "2  Potable - Dura                <1.1  Potable - Excelente   1.449803   \n",
              "3  Potable - Dura                <1.1  Potable - Excelente   1.258597   \n",
              "4  Potable - Dura                 291            Aceptable  15.672251   \n",
              "\n",
              "             CALIDAD_N_NO3 AS_TOT_mg/L           CALIDAD_AS CD_TOT_mg/L  \\\n",
              "0      Potable - Excelente      0.0161       Apta como FAAP      <0.003   \n",
              "1  Potable - Buena calidad      0.0134       Apta como FAAP      <0.003   \n",
              "2      Potable - Excelente       0.037    No apta como FAAP      <0.003   \n",
              "3      Potable - Excelente      0.0154       Apta como FAAP      <0.003   \n",
              "4        No apta como FAAP       <0.01  Potable - Excelente      <0.003   \n",
              "\n",
              "            CALIDAD_CD CR_TOT_mg/L           CALIDAD_CR HG_TOT_mg/L  \\\n",
              "0  Potable - Excelente      <0.005  Potable - Excelente     <0.0005   \n",
              "1  Potable - Excelente      <0.005  Potable - Excelente     <0.0005   \n",
              "2  Potable - Excelente      <0.005  Potable - Excelente     <0.0005   \n",
              "3  Potable - Excelente       0.005  Potable - Excelente     <0.0005   \n",
              "4  Potable - Excelente      <0.005  Potable - Excelente     <0.0005   \n",
              "\n",
              "            CALIDAD_HG PB_TOT_mg/L           CALIDAD_PB MN_TOT_mg/L  \\\n",
              "0  Potable - Excelente      <0.005  Potable - Excelente     <0.0015   \n",
              "1  Potable - Excelente      <0.005  Potable - Excelente     <0.0015   \n",
              "2  Potable - Excelente      <0.005  Potable - Excelente     <0.0015   \n",
              "3  Potable - Excelente      <0.005  Potable - Excelente     <0.0015   \n",
              "4  Potable - Excelente      <0.005  Potable - Excelente     <0.0015   \n",
              "\n",
              "            CALIDAD_MN FE_TOT_mg/L           CALIDAD_FE SEMAFORO  \\\n",
              "0  Potable - Excelente      0.0891  Potable - Excelente    Verde   \n",
              "1  Potable - Excelente      <0.025  Potable - Excelente    Verde   \n",
              "2  Potable - Excelente      <0.025  Potable - Excelente     Rojo   \n",
              "3  Potable - Excelente      <0.025  Potable - Excelente    Verde   \n",
              "4  Potable - Excelente      <0.025  Potable - Excelente     Rojo   \n",
              "\n",
              "  CONTAMINANTES CUMPLE_CON_ALC CUMPLE_CON_COND CUMPLE_CON_SDT_ra  \\\n",
              "0           NaN             SI              SI                SI   \n",
              "1           NaN             SI              SI                SI   \n",
              "2      FLUO,AS,             SI              SI                SI   \n",
              "3           NaN             SI              SI                SI   \n",
              "4          NO3,             SI              SI                SI   \n",
              "\n",
              "  CUMPLE_CON_SDT_salin CUMPLE_CON_FLUO CUMPLE_CON_DUR CUMPLE_CON_CF  \\\n",
              "0                   SI              SI             SI            SI   \n",
              "1                   SI              SI             SI            SI   \n",
              "2                   SI              NO             SI            SI   \n",
              "3                   SI              SI             SI            SI   \n",
              "4                   SI              SI             SI            SI   \n",
              "\n",
              "  CUMPLE_CON_NO3 CUMPLE_CON_AS CUMPLE_CON_CD CUMPLE_CON_CR CUMPLE_CON_HG  \\\n",
              "0             SI            SI            SI            SI            SI   \n",
              "1             SI            SI            SI            SI            SI   \n",
              "2             SI            NO            SI            SI            SI   \n",
              "3             SI            SI            SI            SI            SI   \n",
              "4             NO            SI            SI            SI            SI   \n",
              "\n",
              "  CUMPLE_CON_PB CUMPLE_CON_MN CUMPLE_CON_FE  \n",
              "0            SI            SI            SI  \n",
              "1            SI            SI            SI  \n",
              "2            SI            SI            SI  \n",
              "3            SI            SI            SI  \n",
              "4            SI            SI            SI  "
            ],
            "text/html": [
              "\n",
              "  <div id=\"df-e78ac002-1921-4f3e-9552-b5effc874309\">\n",
              "    <div class=\"colab-df-container\">\n",
              "      <div>\n",
              "<style scoped>\n",
              "    .dataframe tbody tr th:only-of-type {\n",
              "        vertical-align: middle;\n",
              "    }\n",
              "\n",
              "    .dataframe tbody tr th {\n",
              "        vertical-align: top;\n",
              "    }\n",
              "\n",
              "    .dataframe thead th {\n",
              "        text-align: right;\n",
              "    }\n",
              "</style>\n",
              "<table border=\"1\" class=\"dataframe\">\n",
              "  <thead>\n",
              "    <tr style=\"text-align: right;\">\n",
              "      <th></th>\n",
              "      <th>CLAVE</th>\n",
              "      <th>SITIO</th>\n",
              "      <th>ORGANISMO_DE_CUENCA</th>\n",
              "      <th>ESTADO</th>\n",
              "      <th>MUNICIPIO</th>\n",
              "      <th>ACUIFERO</th>\n",
              "      <th>SUBTIPO</th>\n",
              "      <th>LONGITUD</th>\n",
              "      <th>LATITUD</th>\n",
              "      <th>PERIODO</th>\n",
              "      <th>ALC_mg/L</th>\n",
              "      <th>CALIDAD_ALC</th>\n",
              "      <th>CONDUCT_mS/cm</th>\n",
              "      <th>CALIDAD_CONDUC</th>\n",
              "      <th>SDT_mg/L</th>\n",
              "      <th>SDT_M_mg/L</th>\n",
              "      <th>CALIDAD_SDT_ra</th>\n",
              "      <th>CALIDAD_SDT_salin</th>\n",
              "      <th>FLUORUROS_mg/L</th>\n",
              "      <th>CALIDAD_FLUO</th>\n",
              "      <th>DUR_mg/L</th>\n",
              "      <th>CALIDAD_DUR</th>\n",
              "      <th>COLI_FEC_NMP/100_mL</th>\n",
              "      <th>CALIDAD_COLI_FEC</th>\n",
              "      <th>N_NO3_mg/L</th>\n",
              "      <th>CALIDAD_N_NO3</th>\n",
              "      <th>AS_TOT_mg/L</th>\n",
              "      <th>CALIDAD_AS</th>\n",
              "      <th>CD_TOT_mg/L</th>\n",
              "      <th>CALIDAD_CD</th>\n",
              "      <th>CR_TOT_mg/L</th>\n",
              "      <th>CALIDAD_CR</th>\n",
              "      <th>HG_TOT_mg/L</th>\n",
              "      <th>CALIDAD_HG</th>\n",
              "      <th>PB_TOT_mg/L</th>\n",
              "      <th>CALIDAD_PB</th>\n",
              "      <th>MN_TOT_mg/L</th>\n",
              "      <th>CALIDAD_MN</th>\n",
              "      <th>FE_TOT_mg/L</th>\n",
              "      <th>CALIDAD_FE</th>\n",
              "      <th>SEMAFORO</th>\n",
              "      <th>CONTAMINANTES</th>\n",
              "      <th>CUMPLE_CON_ALC</th>\n",
              "      <th>CUMPLE_CON_COND</th>\n",
              "      <th>CUMPLE_CON_SDT_ra</th>\n",
              "      <th>CUMPLE_CON_SDT_salin</th>\n",
              "      <th>CUMPLE_CON_FLUO</th>\n",
              "      <th>CUMPLE_CON_DUR</th>\n",
              "      <th>CUMPLE_CON_CF</th>\n",
              "      <th>CUMPLE_CON_NO3</th>\n",
              "      <th>CUMPLE_CON_AS</th>\n",
              "      <th>CUMPLE_CON_CD</th>\n",
              "      <th>CUMPLE_CON_CR</th>\n",
              "      <th>CUMPLE_CON_HG</th>\n",
              "      <th>CUMPLE_CON_PB</th>\n",
              "      <th>CUMPLE_CON_MN</th>\n",
              "      <th>CUMPLE_CON_FE</th>\n",
              "    </tr>\n",
              "  </thead>\n",
              "  <tbody>\n",
              "    <tr>\n",
              "      <th>0</th>\n",
              "      <td>DLAGU6</td>\n",
              "      <td>POZO SAN GIL</td>\n",
              "      <td>LERMA SANTIAGO PACIFICO</td>\n",
              "      <td>AGUASCALIENTES</td>\n",
              "      <td>ASIENTOS</td>\n",
              "      <td>VALLE DE CHICALOTE</td>\n",
              "      <td>POZO</td>\n",
              "      <td>-102.02210</td>\n",
              "      <td>22.20887</td>\n",
              "      <td>2020</td>\n",
              "      <td>229.990</td>\n",
              "      <td>Alta</td>\n",
              "      <td>940.0</td>\n",
              "      <td>Permisible para riego</td>\n",
              "      <td>NaN</td>\n",
              "      <td>603.6</td>\n",
              "      <td>Cultivos sensibles</td>\n",
              "      <td>Potable - Dulce</td>\n",
              "      <td>0.9766</td>\n",
              "      <td>Potable - Optima</td>\n",
              "      <td>213.732</td>\n",
              "      <td>Potable - Dura</td>\n",
              "      <td>&lt;1.1</td>\n",
              "      <td>Potable - Excelente</td>\n",
              "      <td>4.184656</td>\n",
              "      <td>Potable - Excelente</td>\n",
              "      <td>0.0161</td>\n",
              "      <td>Apta como FAAP</td>\n",
              "      <td>&lt;0.003</td>\n",
              "      <td>Potable - Excelente</td>\n",
              "      <td>&lt;0.005</td>\n",
              "      <td>Potable - Excelente</td>\n",
              "      <td>&lt;0.0005</td>\n",
              "      <td>Potable - Excelente</td>\n",
              "      <td>&lt;0.005</td>\n",
              "      <td>Potable - Excelente</td>\n",
              "      <td>&lt;0.0015</td>\n",
              "      <td>Potable - Excelente</td>\n",
              "      <td>0.0891</td>\n",
              "      <td>Potable - Excelente</td>\n",
              "      <td>Verde</td>\n",
              "      <td>NaN</td>\n",
              "      <td>SI</td>\n",
              "      <td>SI</td>\n",
              "      <td>SI</td>\n",
              "      <td>SI</td>\n",
              "      <td>SI</td>\n",
              "      <td>SI</td>\n",
              "      <td>SI</td>\n",
              "      <td>SI</td>\n",
              "      <td>SI</td>\n",
              "      <td>SI</td>\n",
              "      <td>SI</td>\n",
              "      <td>SI</td>\n",
              "      <td>SI</td>\n",
              "      <td>SI</td>\n",
              "      <td>SI</td>\n",
              "    </tr>\n",
              "    <tr>\n",
              "      <th>1</th>\n",
              "      <td>DLAGU6516</td>\n",
              "      <td>POZO R013 CAADA HONDA</td>\n",
              "      <td>LERMA SANTIAGO PACIFICO</td>\n",
              "      <td>AGUASCALIENTES</td>\n",
              "      <td>AGUASCALIENTES</td>\n",
              "      <td>VALLE DE CHICALOTE</td>\n",
              "      <td>POZO</td>\n",
              "      <td>-102.20075</td>\n",
              "      <td>21.99958</td>\n",
              "      <td>2020</td>\n",
              "      <td>231.990</td>\n",
              "      <td>Alta</td>\n",
              "      <td>608.0</td>\n",
              "      <td>Buena para riego</td>\n",
              "      <td>NaN</td>\n",
              "      <td>445.4</td>\n",
              "      <td>Excelente para riego</td>\n",
              "      <td>Potable - Dulce</td>\n",
              "      <td>0.9298</td>\n",
              "      <td>Potable - Optima</td>\n",
              "      <td>185.0514</td>\n",
              "      <td>Potable - Dura</td>\n",
              "      <td>&lt;1.1</td>\n",
              "      <td>Potable - Excelente</td>\n",
              "      <td>5.75011</td>\n",
              "      <td>Potable - Buena calidad</td>\n",
              "      <td>0.0134</td>\n",
              "      <td>Apta como FAAP</td>\n",
              "      <td>&lt;0.003</td>\n",
              "      <td>Potable - Excelente</td>\n",
              "      <td>&lt;0.005</td>\n",
              "      <td>Potable - Excelente</td>\n",
              "      <td>&lt;0.0005</td>\n",
              "      <td>Potable - Excelente</td>\n",
              "      <td>&lt;0.005</td>\n",
              "      <td>Potable - Excelente</td>\n",
              "      <td>&lt;0.0015</td>\n",
              "      <td>Potable - Excelente</td>\n",
              "      <td>&lt;0.025</td>\n",
              "      <td>Potable - Excelente</td>\n",
              "      <td>Verde</td>\n",
              "      <td>NaN</td>\n",
              "      <td>SI</td>\n",
              "      <td>SI</td>\n",
              "      <td>SI</td>\n",
              "      <td>SI</td>\n",
              "      <td>SI</td>\n",
              "      <td>SI</td>\n",
              "      <td>SI</td>\n",
              "      <td>SI</td>\n",
              "      <td>SI</td>\n",
              "      <td>SI</td>\n",
              "      <td>SI</td>\n",
              "      <td>SI</td>\n",
              "      <td>SI</td>\n",
              "      <td>SI</td>\n",
              "      <td>SI</td>\n",
              "    </tr>\n",
              "    <tr>\n",
              "      <th>2</th>\n",
              "      <td>DLAGU7</td>\n",
              "      <td>POZO COSIO</td>\n",
              "      <td>LERMA SANTIAGO PACIFICO</td>\n",
              "      <td>AGUASCALIENTES</td>\n",
              "      <td>COSIO</td>\n",
              "      <td>VALLE DE AGUASCALIENTES</td>\n",
              "      <td>POZO</td>\n",
              "      <td>-102.28801</td>\n",
              "      <td>22.36685</td>\n",
              "      <td>2020</td>\n",
              "      <td>204.920</td>\n",
              "      <td>Alta</td>\n",
              "      <td>532.0</td>\n",
              "      <td>Buena para riego</td>\n",
              "      <td>NaN</td>\n",
              "      <td>342</td>\n",
              "      <td>Excelente para riego</td>\n",
              "      <td>Potable - Dulce</td>\n",
              "      <td>1.8045</td>\n",
              "      <td>Alta</td>\n",
              "      <td>120.719</td>\n",
              "      <td>Potable - Dura</td>\n",
              "      <td>&lt;1.1</td>\n",
              "      <td>Potable - Excelente</td>\n",
              "      <td>1.449803</td>\n",
              "      <td>Potable - Excelente</td>\n",
              "      <td>0.037</td>\n",
              "      <td>No apta como FAAP</td>\n",
              "      <td>&lt;0.003</td>\n",
              "      <td>Potable - Excelente</td>\n",
              "      <td>&lt;0.005</td>\n",
              "      <td>Potable - Excelente</td>\n",
              "      <td>&lt;0.0005</td>\n",
              "      <td>Potable - Excelente</td>\n",
              "      <td>&lt;0.005</td>\n",
              "      <td>Potable - Excelente</td>\n",
              "      <td>&lt;0.0015</td>\n",
              "      <td>Potable - Excelente</td>\n",
              "      <td>&lt;0.025</td>\n",
              "      <td>Potable - Excelente</td>\n",
              "      <td>Rojo</td>\n",
              "      <td>FLUO,AS,</td>\n",
              "      <td>SI</td>\n",
              "      <td>SI</td>\n",
              "      <td>SI</td>\n",
              "      <td>SI</td>\n",
              "      <td>NO</td>\n",
              "      <td>SI</td>\n",
              "      <td>SI</td>\n",
              "      <td>SI</td>\n",
              "      <td>NO</td>\n",
              "      <td>SI</td>\n",
              "      <td>SI</td>\n",
              "      <td>SI</td>\n",
              "      <td>SI</td>\n",
              "      <td>SI</td>\n",
              "      <td>SI</td>\n",
              "    </tr>\n",
              "    <tr>\n",
              "      <th>3</th>\n",
              "      <td>DLAGU9</td>\n",
              "      <td>POZO EL SALITRILLO</td>\n",
              "      <td>LERMA SANTIAGO PACIFICO</td>\n",
              "      <td>AGUASCALIENTES</td>\n",
              "      <td>RINCON DE ROMOS</td>\n",
              "      <td>VALLE DE AGUASCALIENTES</td>\n",
              "      <td>POZO</td>\n",
              "      <td>-102.29449</td>\n",
              "      <td>22.18435</td>\n",
              "      <td>2020</td>\n",
              "      <td>327.000</td>\n",
              "      <td>Alta</td>\n",
              "      <td>686.0</td>\n",
              "      <td>Buena para riego</td>\n",
              "      <td>NaN</td>\n",
              "      <td>478.6</td>\n",
              "      <td>Excelente para riego</td>\n",
              "      <td>Potable - Dulce</td>\n",
              "      <td>1.1229</td>\n",
              "      <td>Potable - Optima</td>\n",
              "      <td>199.879</td>\n",
              "      <td>Potable - Dura</td>\n",
              "      <td>&lt;1.1</td>\n",
              "      <td>Potable - Excelente</td>\n",
              "      <td>1.258597</td>\n",
              "      <td>Potable - Excelente</td>\n",
              "      <td>0.0154</td>\n",
              "      <td>Apta como FAAP</td>\n",
              "      <td>&lt;0.003</td>\n",
              "      <td>Potable - Excelente</td>\n",
              "      <td>0.005</td>\n",
              "      <td>Potable - Excelente</td>\n",
              "      <td>&lt;0.0005</td>\n",
              "      <td>Potable - Excelente</td>\n",
              "      <td>&lt;0.005</td>\n",
              "      <td>Potable - Excelente</td>\n",
              "      <td>&lt;0.0015</td>\n",
              "      <td>Potable - Excelente</td>\n",
              "      <td>&lt;0.025</td>\n",
              "      <td>Potable - Excelente</td>\n",
              "      <td>Verde</td>\n",
              "      <td>NaN</td>\n",
              "      <td>SI</td>\n",
              "      <td>SI</td>\n",
              "      <td>SI</td>\n",
              "      <td>SI</td>\n",
              "      <td>SI</td>\n",
              "      <td>SI</td>\n",
              "      <td>SI</td>\n",
              "      <td>SI</td>\n",
              "      <td>SI</td>\n",
              "      <td>SI</td>\n",
              "      <td>SI</td>\n",
              "      <td>SI</td>\n",
              "      <td>SI</td>\n",
              "      <td>SI</td>\n",
              "      <td>SI</td>\n",
              "    </tr>\n",
              "    <tr>\n",
              "      <th>4</th>\n",
              "      <td>DLBAJ107</td>\n",
              "      <td>RANCHO EL TECOLOTE</td>\n",
              "      <td>PENINSULA DE BAJA CALIFORNIA</td>\n",
              "      <td>BAJA CALIFORNIA SUR</td>\n",
              "      <td>LA PAZ</td>\n",
              "      <td>TODOS SANTOS</td>\n",
              "      <td>POZO</td>\n",
              "      <td>-110.24480</td>\n",
              "      <td>23.45138</td>\n",
              "      <td>2020</td>\n",
              "      <td>309.885</td>\n",
              "      <td>Alta</td>\n",
              "      <td>1841.0</td>\n",
              "      <td>Permisible para riego</td>\n",
              "      <td>NaN</td>\n",
              "      <td>1179</td>\n",
              "      <td>Cultivos con manejo especial</td>\n",
              "      <td>Ligeramente salobres</td>\n",
              "      <td>0.2343</td>\n",
              "      <td>Baja</td>\n",
              "      <td>476.9872</td>\n",
              "      <td>Potable - Dura</td>\n",
              "      <td>291</td>\n",
              "      <td>Aceptable</td>\n",
              "      <td>15.672251</td>\n",
              "      <td>No apta como FAAP</td>\n",
              "      <td>&lt;0.01</td>\n",
              "      <td>Potable - Excelente</td>\n",
              "      <td>&lt;0.003</td>\n",
              "      <td>Potable - Excelente</td>\n",
              "      <td>&lt;0.005</td>\n",
              "      <td>Potable - Excelente</td>\n",
              "      <td>&lt;0.0005</td>\n",
              "      <td>Potable - Excelente</td>\n",
              "      <td>&lt;0.005</td>\n",
              "      <td>Potable - Excelente</td>\n",
              "      <td>&lt;0.0015</td>\n",
              "      <td>Potable - Excelente</td>\n",
              "      <td>&lt;0.025</td>\n",
              "      <td>Potable - Excelente</td>\n",
              "      <td>Rojo</td>\n",
              "      <td>NO3,</td>\n",
              "      <td>SI</td>\n",
              "      <td>SI</td>\n",
              "      <td>SI</td>\n",
              "      <td>SI</td>\n",
              "      <td>SI</td>\n",
              "      <td>SI</td>\n",
              "      <td>SI</td>\n",
              "      <td>NO</td>\n",
              "      <td>SI</td>\n",
              "      <td>SI</td>\n",
              "      <td>SI</td>\n",
              "      <td>SI</td>\n",
              "      <td>SI</td>\n",
              "      <td>SI</td>\n",
              "      <td>SI</td>\n",
              "    </tr>\n",
              "  </tbody>\n",
              "</table>\n",
              "</div>\n",
              "      <button class=\"colab-df-convert\" onclick=\"convertToInteractive('df-e78ac002-1921-4f3e-9552-b5effc874309')\"\n",
              "              title=\"Convert this dataframe to an interactive table.\"\n",
              "              style=\"display:none;\">\n",
              "        \n",
              "  <svg xmlns=\"http://www.w3.org/2000/svg\" height=\"24px\"viewBox=\"0 0 24 24\"\n",
              "       width=\"24px\">\n",
              "    <path d=\"M0 0h24v24H0V0z\" fill=\"none\"/>\n",
              "    <path d=\"M18.56 5.44l.94 2.06.94-2.06 2.06-.94-2.06-.94-.94-2.06-.94 2.06-2.06.94zm-11 1L8.5 8.5l.94-2.06 2.06-.94-2.06-.94L8.5 2.5l-.94 2.06-2.06.94zm10 10l.94 2.06.94-2.06 2.06-.94-2.06-.94-.94-2.06-.94 2.06-2.06.94z\"/><path d=\"M17.41 7.96l-1.37-1.37c-.4-.4-.92-.59-1.43-.59-.52 0-1.04.2-1.43.59L10.3 9.45l-7.72 7.72c-.78.78-.78 2.05 0 2.83L4 21.41c.39.39.9.59 1.41.59.51 0 1.02-.2 1.41-.59l7.78-7.78 2.81-2.81c.8-.78.8-2.07 0-2.86zM5.41 20L4 18.59l7.72-7.72 1.47 1.35L5.41 20z\"/>\n",
              "  </svg>\n",
              "      </button>\n",
              "      \n",
              "  <style>\n",
              "    .colab-df-container {\n",
              "      display:flex;\n",
              "      flex-wrap:wrap;\n",
              "      gap: 12px;\n",
              "    }\n",
              "\n",
              "    .colab-df-convert {\n",
              "      background-color: #E8F0FE;\n",
              "      border: none;\n",
              "      border-radius: 50%;\n",
              "      cursor: pointer;\n",
              "      display: none;\n",
              "      fill: #1967D2;\n",
              "      height: 32px;\n",
              "      padding: 0 0 0 0;\n",
              "      width: 32px;\n",
              "    }\n",
              "\n",
              "    .colab-df-convert:hover {\n",
              "      background-color: #E2EBFA;\n",
              "      box-shadow: 0px 1px 2px rgba(60, 64, 67, 0.3), 0px 1px 3px 1px rgba(60, 64, 67, 0.15);\n",
              "      fill: #174EA6;\n",
              "    }\n",
              "\n",
              "    [theme=dark] .colab-df-convert {\n",
              "      background-color: #3B4455;\n",
              "      fill: #D2E3FC;\n",
              "    }\n",
              "\n",
              "    [theme=dark] .colab-df-convert:hover {\n",
              "      background-color: #434B5C;\n",
              "      box-shadow: 0px 1px 3px 1px rgba(0, 0, 0, 0.15);\n",
              "      filter: drop-shadow(0px 1px 2px rgba(0, 0, 0, 0.3));\n",
              "      fill: #FFFFFF;\n",
              "    }\n",
              "  </style>\n",
              "\n",
              "      <script>\n",
              "        const buttonEl =\n",
              "          document.querySelector('#df-e78ac002-1921-4f3e-9552-b5effc874309 button.colab-df-convert');\n",
              "        buttonEl.style.display =\n",
              "          google.colab.kernel.accessAllowed ? 'block' : 'none';\n",
              "\n",
              "        async function convertToInteractive(key) {\n",
              "          const element = document.querySelector('#df-e78ac002-1921-4f3e-9552-b5effc874309');\n",
              "          const dataTable =\n",
              "            await google.colab.kernel.invokeFunction('convertToInteractive',\n",
              "                                                     [key], {});\n",
              "          if (!dataTable) return;\n",
              "\n",
              "          const docLinkHtml = 'Like what you see? Visit the ' +\n",
              "            '<a target=\"_blank\" href=https://colab.research.google.com/notebooks/data_table.ipynb>data table notebook</a>'\n",
              "            + ' to learn more about interactive tables.';\n",
              "          element.innerHTML = '';\n",
              "          dataTable['output_type'] = 'display_data';\n",
              "          await google.colab.output.renderOutput(dataTable, element);\n",
              "          const docLink = document.createElement('div');\n",
              "          docLink.innerHTML = docLinkHtml;\n",
              "          element.appendChild(docLink);\n",
              "        }\n",
              "      </script>\n",
              "    </div>\n",
              "  </div>\n",
              "  "
            ]
          },
          "metadata": {},
          "execution_count": 8
        }
      ]
    },
    {
      "cell_type": "markdown",
      "source": [
        "**Limpieza de base de datos**"
      ],
      "metadata": {
        "id": "saFAiFRWNPXh"
      }
    },
    {
      "cell_type": "markdown",
      "source": [
        "1. Buscamos la proporción de la variable objetivo semáforo"
      ],
      "metadata": {
        "id": "Aj8Xrj75NfoC"
      }
    },
    {
      "cell_type": "code",
      "source": [
        "df_reto2[\"SEMAFORO\"].value_counts()/len(df_reto2)"
      ],
      "metadata": {
        "colab": {
          "base_uri": "https://localhost:8080/"
        },
        "id": "aDZHZaTOtd85",
        "outputId": "2b99680d-3b2e-4dab-95b4-dd17a73b2e05"
      },
      "execution_count": null,
      "outputs": [
        {
          "output_type": "execute_result",
          "data": {
            "text/plain": [
              "Verde       0.406367\n",
              "Rojo        0.362360\n",
              "Amarillo    0.231273\n",
              "Name: SEMAFORO, dtype: float64"
            ]
          },
          "metadata": {},
          "execution_count": 9
        }
      ]
    },
    {
      "cell_type": "markdown",
      "source": [
        "2. Eliminamos el signo < de todas las variables ordinales"
      ],
      "metadata": {
        "id": "oMVn3V7SN0Xt"
      }
    },
    {
      "cell_type": "code",
      "source": [
        "to_numeric=['ALC_mg/L','CONDUCT_mS/cm','SDT_M_mg/L','FLUORUROS_mg/L','DUR_mg/L','COLI_FEC_NMP/100_mL','N_NO3_mg/L','AS_TOT_mg/L','CD_TOT_mg/L','CR_TOT_mg/L','HG_TOT_mg/L','PB_TOT_mg/L','MN_TOT_mg/L','FE_TOT_mg/L']\n",
        "\n",
        "for i in to_numeric:\n",
        "  df_reto2[i] = df_reto2[i].astype(\"str\")\n",
        "  df_reto2[i] = df_reto2[i].str.replace(\"<\",\"0\")\n",
        "  df_reto2[i]= df_reto2[i].astype(\"float\")"
      ],
      "metadata": {
        "id": "Ls1Vb0altxxY"
      },
      "execution_count": null,
      "outputs": []
    },
    {
      "cell_type": "markdown",
      "source": [
        "3. Verificamos los datos vacíos que tiene nuestro dataframe"
      ],
      "metadata": {
        "id": "mLIotIX_OdqI"
      }
    },
    {
      "cell_type": "code",
      "source": [
        "df_reto2.isnull().sum().sort_values(ascending=False)"
      ],
      "metadata": {
        "colab": {
          "base_uri": "https://localhost:8080/"
        },
        "id": "8KaYlaFkt79i",
        "outputId": "80f054e9-5017-4701-c4c6-823b69b9ec2a"
      },
      "execution_count": null,
      "outputs": [
        {
          "output_type": "execute_result",
          "data": {
            "text/plain": [
              "SDT_mg/L                1068\n",
              "CONTAMINANTES            434\n",
              "CALIDAD_CONDUC             6\n",
              "CONDUCT_mS/cm              6\n",
              "ALC_mg/L                   4\n",
              "CALIDAD_ALC                4\n",
              "CALIDAD_SDT_ra             2\n",
              "SDT_M_mg/L                 2\n",
              "CALIDAD_SDT_salin          2\n",
              "CALIDAD_N_NO3              1\n",
              "CALIDAD_DUR                1\n",
              "N_NO3_mg/L                 1\n",
              "DUR_mg/L                   1\n",
              "CUMPLE_CON_COND            0\n",
              "CUMPLE_CON_ALC             0\n",
              "SEMAFORO                   0\n",
              "CALIDAD_FE                 0\n",
              "FE_TOT_mg/L                0\n",
              "CALIDAD_MN                 0\n",
              "CUMPLE_CON_SDT_ra          0\n",
              "CUMPLE_CON_SDT_salin       0\n",
              "CLAVE                      0\n",
              "CUMPLE_CON_FLUO            0\n",
              "CUMPLE_CON_DUR             0\n",
              "CALIDAD_PB                 0\n",
              "CUMPLE_CON_CF              0\n",
              "CUMPLE_CON_NO3             0\n",
              "CUMPLE_CON_AS              0\n",
              "CUMPLE_CON_CD              0\n",
              "CUMPLE_CON_CR              0\n",
              "CUMPLE_CON_HG              0\n",
              "CUMPLE_CON_PB              0\n",
              "CUMPLE_CON_MN              0\n",
              "MN_TOT_mg/L                0\n",
              "CD_TOT_mg/L                0\n",
              "PB_TOT_mg/L                0\n",
              "CALIDAD_HG                 0\n",
              "ORGANISMO_DE_CUENCA        0\n",
              "ESTADO                     0\n",
              "MUNICIPIO                  0\n",
              "ACUIFERO                   0\n",
              "SUBTIPO                    0\n",
              "LONGITUD                   0\n",
              "LATITUD                    0\n",
              "PERIODO                    0\n",
              "FLUORUROS_mg/L             0\n",
              "CALIDAD_FLUO               0\n",
              "COLI_FEC_NMP/100_mL        0\n",
              "CALIDAD_COLI_FEC           0\n",
              "AS_TOT_mg/L                0\n",
              "CALIDAD_AS                 0\n",
              "SITIO                      0\n",
              "CALIDAD_CD                 0\n",
              "CR_TOT_mg/L                0\n",
              "CALIDAD_CR                 0\n",
              "HG_TOT_mg/L                0\n",
              "CUMPLE_CON_FE              0\n",
              "dtype: int64"
            ]
          },
          "metadata": {},
          "execution_count": 11
        }
      ]
    },
    {
      "cell_type": "markdown",
      "source": [
        "4. Ubicamos los diferentes valores que cada columna contiene. \n",
        "Luego tratamos los datos nulos por columna y agregamos el nombre de la columna con las listas \"fill_moda\" o \"fill_mediana\"."
      ],
      "metadata": {
        "id": "8WfHgbz3OwDC"
      }
    },
    {
      "cell_type": "code",
      "source": [
        "fill_moda = [\"CALIDAD_ALC\",\"CALIDAD_SDT_ra\",\"CALIDAD_SDT_salin\",\"CALIDAD_N_NO3\",\"CALIDAD_DUR\",\"CONTAMINANTES\",\"CALIDAD_CONDUC\"]\n",
        "fill_mediana = [\"CONDUCT_mS/cm\",\"ALC_mg/L\",\"SDT_M_mg/L\",\"N_NO3_mg/L\",\"DUR_mg/L\"]\n",
        "dropna = [\"SDT_mg/L\"]"
      ],
      "metadata": {
        "id": "CKeE3eUzuI8S"
      },
      "execution_count": null,
      "outputs": []
    },
    {
      "cell_type": "code",
      "source": [
        "for c in fill_moda:\n",
        "  df_reto2[c].fillna(df_reto2[c].mode()[0], inplace=True)"
      ],
      "metadata": {
        "id": "mONt1bkuuK6u"
      },
      "execution_count": null,
      "outputs": []
    },
    {
      "cell_type": "code",
      "source": [
        "for c in fill_mediana:\n",
        "  df_reto2[c].fillna(df_reto2[c].median(), inplace=True)"
      ],
      "metadata": {
        "id": "UTd0ApG6uVgc"
      },
      "execution_count": null,
      "outputs": []
    },
    {
      "cell_type": "code",
      "source": [
        "len(df_reto2)"
      ],
      "metadata": {
        "colab": {
          "base_uri": "https://localhost:8080/"
        },
        "id": "Iz5GXATcuaN3",
        "outputId": "8b9a0f4d-df7f-435a-cc69-61c1814e3599"
      },
      "execution_count": null,
      "outputs": [
        {
          "output_type": "execute_result",
          "data": {
            "text/plain": [
              "1068"
            ]
          },
          "metadata": {},
          "execution_count": 15
        }
      ]
    },
    {
      "cell_type": "markdown",
      "source": [
        "5. Como se puede apreciar la columna SDT_mg/L se encuentra vacía en su totalidad, por lo cual se procederá a eliminarla\n",
        "\n",
        "Usamos el método drop para eliminar la columna con valores vacíos"
      ],
      "metadata": {
        "id": "ygAv2HYdRrV9"
      }
    },
    {
      "cell_type": "code",
      "source": [
        "df_reto2.drop(\"SDT_mg/L\",axis=1,inplace=True)"
      ],
      "metadata": {
        "id": "z_R-A77Duh62"
      },
      "execution_count": null,
      "outputs": []
    },
    {
      "cell_type": "markdown",
      "source": [
        "6. Nos aseguramos que no haya valores nulos"
      ],
      "metadata": {
        "id": "LQl_Nd_tRviw"
      }
    },
    {
      "cell_type": "code",
      "source": [
        "df_reto2.isnull().sum().sort_values(ascending=False)"
      ],
      "metadata": {
        "colab": {
          "base_uri": "https://localhost:8080/"
        },
        "id": "ZTTUKZjeum-N",
        "outputId": "5f024002-4656-4d60-e2c6-9c40d1be6c82"
      },
      "execution_count": null,
      "outputs": [
        {
          "output_type": "execute_result",
          "data": {
            "text/plain": [
              "CLAVE                   0\n",
              "SITIO                   0\n",
              "CALIDAD_CR              0\n",
              "HG_TOT_mg/L             0\n",
              "CALIDAD_HG              0\n",
              "PB_TOT_mg/L             0\n",
              "CALIDAD_PB              0\n",
              "MN_TOT_mg/L             0\n",
              "CALIDAD_MN              0\n",
              "FE_TOT_mg/L             0\n",
              "CALIDAD_FE              0\n",
              "SEMAFORO                0\n",
              "CONTAMINANTES           0\n",
              "CUMPLE_CON_ALC          0\n",
              "CUMPLE_CON_COND         0\n",
              "CUMPLE_CON_SDT_ra       0\n",
              "CUMPLE_CON_SDT_salin    0\n",
              "CUMPLE_CON_FLUO         0\n",
              "CUMPLE_CON_DUR          0\n",
              "CUMPLE_CON_CF           0\n",
              "CUMPLE_CON_NO3          0\n",
              "CUMPLE_CON_AS           0\n",
              "CUMPLE_CON_CD           0\n",
              "CUMPLE_CON_CR           0\n",
              "CUMPLE_CON_HG           0\n",
              "CUMPLE_CON_PB           0\n",
              "CUMPLE_CON_MN           0\n",
              "CR_TOT_mg/L             0\n",
              "CALIDAD_CD              0\n",
              "CD_TOT_mg/L             0\n",
              "CALIDAD_CONDUC          0\n",
              "ORGANISMO_DE_CUENCA     0\n",
              "ESTADO                  0\n",
              "MUNICIPIO               0\n",
              "ACUIFERO                0\n",
              "SUBTIPO                 0\n",
              "LONGITUD                0\n",
              "LATITUD                 0\n",
              "PERIODO                 0\n",
              "ALC_mg/L                0\n",
              "CALIDAD_ALC             0\n",
              "CONDUCT_mS/cm           0\n",
              "SDT_M_mg/L              0\n",
              "CALIDAD_AS              0\n",
              "CALIDAD_SDT_ra          0\n",
              "CALIDAD_SDT_salin       0\n",
              "FLUORUROS_mg/L          0\n",
              "CALIDAD_FLUO            0\n",
              "DUR_mg/L                0\n",
              "CALIDAD_DUR             0\n",
              "COLI_FEC_NMP/100_mL     0\n",
              "CALIDAD_COLI_FEC        0\n",
              "N_NO3_mg/L              0\n",
              "CALIDAD_N_NO3           0\n",
              "AS_TOT_mg/L             0\n",
              "CUMPLE_CON_FE           0\n",
              "dtype: int64"
            ]
          },
          "metadata": {},
          "execution_count": 17
        }
      ]
    },
    {
      "cell_type": "markdown",
      "source": [
        "7. Como sabemos muchos modelos no toman en cuenta strings como entrada, es por esto que podemos encodificar estas variables con 0 y 1 mediante el metodo get_dummies() para convertir variables categoricas en dummy variables."
      ],
      "metadata": {
        "id": "Yn1DWI-5SEwc"
      }
    },
    {
      "cell_type": "code",
      "source": [
        "df_reto2[\"CONTAMINANTES\"].value_counts()"
      ],
      "metadata": {
        "colab": {
          "base_uri": "https://localhost:8080/"
        },
        "id": "4_JoJczhuuZ6",
        "outputId": "f443db52-afa7-4e7b-a266-688fd654d902"
      },
      "execution_count": null,
      "outputs": [
        {
          "output_type": "execute_result",
          "data": {
            "text/plain": [
              "FLUO,                                            512\n",
              "DT,                                               65\n",
              "FLUO,AS,                                          51\n",
              "CF,                                               31\n",
              "AS,                                               31\n",
              "                                                ... \n",
              "ALC,CONDUC,SDT_ra,SDT_salin,DT,NO3,                1\n",
              "ALC,CONDUC,SDT_ra,SDT_salin,FLUO,DT,AS,MN,FE,      1\n",
              "PB,MN,FE,                                          1\n",
              "ALC,AS,FE,                                         1\n",
              "ALC,DT,NO3,                                        1\n",
              "Name: CONTAMINANTES, Length: 126, dtype: int64"
            ]
          },
          "metadata": {},
          "execution_count": 18
        }
      ]
    },
    {
      "cell_type": "code",
      "source": [
        "df_tmp = df_reto2[\"CONTAMINANTES\"].str.get_dummies(sep=',')\n",
        "clean_dfreto2 = pd.concat([df_reto2,df_tmp], axis=1)\n",
        "clean_dfreto2.head()"
      ],
      "metadata": {
        "colab": {
          "base_uri": "https://localhost:8080/",
          "height": 392
        },
        "id": "bUsa0wl4uyHa",
        "outputId": "003b8d15-7819-4c2b-b6d7-04d48d423127"
      },
      "execution_count": null,
      "outputs": [
        {
          "output_type": "execute_result",
          "data": {
            "text/plain": [
              "       CLAVE                  SITIO           ORGANISMO_DE_CUENCA  \\\n",
              "0     DLAGU6           POZO SAN GIL       LERMA SANTIAGO PACIFICO   \n",
              "1  DLAGU6516  POZO R013 CAADA HONDA       LERMA SANTIAGO PACIFICO   \n",
              "2     DLAGU7             POZO COSIO       LERMA SANTIAGO PACIFICO   \n",
              "3     DLAGU9     POZO EL SALITRILLO       LERMA SANTIAGO PACIFICO   \n",
              "4   DLBAJ107     RANCHO EL TECOLOTE  PENINSULA DE BAJA CALIFORNIA   \n",
              "\n",
              "                ESTADO        MUNICIPIO                 ACUIFERO SUBTIPO  \\\n",
              "0       AGUASCALIENTES         ASIENTOS       VALLE DE CHICALOTE    POZO   \n",
              "1       AGUASCALIENTES   AGUASCALIENTES       VALLE DE CHICALOTE    POZO   \n",
              "2       AGUASCALIENTES            COSIO  VALLE DE AGUASCALIENTES    POZO   \n",
              "3       AGUASCALIENTES  RINCON DE ROMOS  VALLE DE AGUASCALIENTES    POZO   \n",
              "4  BAJA CALIFORNIA SUR           LA PAZ             TODOS SANTOS    POZO   \n",
              "\n",
              "    LONGITUD   LATITUD  PERIODO  ALC_mg/L CALIDAD_ALC  CONDUCT_mS/cm  \\\n",
              "0 -102.02210  22.20887     2020   229.990        Alta          940.0   \n",
              "1 -102.20075  21.99958     2020   231.990        Alta          608.0   \n",
              "2 -102.28801  22.36685     2020   204.920        Alta          532.0   \n",
              "3 -102.29449  22.18435     2020   327.000        Alta          686.0   \n",
              "4 -110.24480  23.45138     2020   309.885        Alta         1841.0   \n",
              "\n",
              "          CALIDAD_CONDUC  SDT_M_mg/L                CALIDAD_SDT_ra  \\\n",
              "0  Permisible para riego       603.6            Cultivos sensibles   \n",
              "1       Buena para riego       445.4          Excelente para riego   \n",
              "2       Buena para riego       342.0          Excelente para riego   \n",
              "3       Buena para riego       478.6          Excelente para riego   \n",
              "4  Permisible para riego      1179.0  Cultivos con manejo especial   \n",
              "\n",
              "      CALIDAD_SDT_salin  FLUORUROS_mg/L      CALIDAD_FLUO  DUR_mg/L  \\\n",
              "0       Potable - Dulce          0.9766  Potable - Optima  213.7320   \n",
              "1       Potable - Dulce          0.9298  Potable - Optima  185.0514   \n",
              "2       Potable - Dulce          1.8045              Alta  120.7190   \n",
              "3       Potable - Dulce          1.1229  Potable - Optima  199.8790   \n",
              "4  Ligeramente salobres          0.2343              Baja  476.9872   \n",
              "\n",
              "      CALIDAD_DUR  COLI_FEC_NMP/100_mL     CALIDAD_COLI_FEC  N_NO3_mg/L  \\\n",
              "0  Potable - Dura                  1.1  Potable - Excelente    4.184656   \n",
              "1  Potable - Dura                  1.1  Potable - Excelente    5.750110   \n",
              "2  Potable - Dura                  1.1  Potable - Excelente    1.449803   \n",
              "3  Potable - Dura                  1.1  Potable - Excelente    1.258597   \n",
              "4  Potable - Dura                291.0            Aceptable   15.672251   \n",
              "\n",
              "             CALIDAD_N_NO3  AS_TOT_mg/L           CALIDAD_AS  CD_TOT_mg/L  \\\n",
              "0      Potable - Excelente       0.0161       Apta como FAAP        0.003   \n",
              "1  Potable - Buena calidad       0.0134       Apta como FAAP        0.003   \n",
              "2      Potable - Excelente       0.0370    No apta como FAAP        0.003   \n",
              "3      Potable - Excelente       0.0154       Apta como FAAP        0.003   \n",
              "4        No apta como FAAP       0.0100  Potable - Excelente        0.003   \n",
              "\n",
              "            CALIDAD_CD  CR_TOT_mg/L           CALIDAD_CR  HG_TOT_mg/L  \\\n",
              "0  Potable - Excelente        0.005  Potable - Excelente       0.0005   \n",
              "1  Potable - Excelente        0.005  Potable - Excelente       0.0005   \n",
              "2  Potable - Excelente        0.005  Potable - Excelente       0.0005   \n",
              "3  Potable - Excelente        0.005  Potable - Excelente       0.0005   \n",
              "4  Potable - Excelente        0.005  Potable - Excelente       0.0005   \n",
              "\n",
              "            CALIDAD_HG  PB_TOT_mg/L           CALIDAD_PB  MN_TOT_mg/L  \\\n",
              "0  Potable - Excelente        0.005  Potable - Excelente       0.0015   \n",
              "1  Potable - Excelente        0.005  Potable - Excelente       0.0015   \n",
              "2  Potable - Excelente        0.005  Potable - Excelente       0.0015   \n",
              "3  Potable - Excelente        0.005  Potable - Excelente       0.0015   \n",
              "4  Potable - Excelente        0.005  Potable - Excelente       0.0015   \n",
              "\n",
              "            CALIDAD_MN  FE_TOT_mg/L           CALIDAD_FE SEMAFORO  \\\n",
              "0  Potable - Excelente       0.0891  Potable - Excelente    Verde   \n",
              "1  Potable - Excelente       0.0250  Potable - Excelente    Verde   \n",
              "2  Potable - Excelente       0.0250  Potable - Excelente     Rojo   \n",
              "3  Potable - Excelente       0.0250  Potable - Excelente    Verde   \n",
              "4  Potable - Excelente       0.0250  Potable - Excelente     Rojo   \n",
              "\n",
              "  CONTAMINANTES CUMPLE_CON_ALC CUMPLE_CON_COND CUMPLE_CON_SDT_ra  \\\n",
              "0         FLUO,             SI              SI                SI   \n",
              "1         FLUO,             SI              SI                SI   \n",
              "2      FLUO,AS,             SI              SI                SI   \n",
              "3         FLUO,             SI              SI                SI   \n",
              "4          NO3,             SI              SI                SI   \n",
              "\n",
              "  CUMPLE_CON_SDT_salin CUMPLE_CON_FLUO CUMPLE_CON_DUR CUMPLE_CON_CF  \\\n",
              "0                   SI              SI             SI            SI   \n",
              "1                   SI              SI             SI            SI   \n",
              "2                   SI              NO             SI            SI   \n",
              "3                   SI              SI             SI            SI   \n",
              "4                   SI              SI             SI            SI   \n",
              "\n",
              "  CUMPLE_CON_NO3 CUMPLE_CON_AS CUMPLE_CON_CD CUMPLE_CON_CR CUMPLE_CON_HG  \\\n",
              "0             SI            SI            SI            SI            SI   \n",
              "1             SI            SI            SI            SI            SI   \n",
              "2             SI            NO            SI            SI            SI   \n",
              "3             SI            SI            SI            SI            SI   \n",
              "4             NO            SI            SI            SI            SI   \n",
              "\n",
              "  CUMPLE_CON_PB CUMPLE_CON_MN CUMPLE_CON_FE  ALC  AS  CD  CF  CONDUC  CR  DT  \\\n",
              "0            SI            SI            SI    0   0   0   0       0   0   0   \n",
              "1            SI            SI            SI    0   0   0   0       0   0   0   \n",
              "2            SI            SI            SI    0   1   0   0       0   0   0   \n",
              "3            SI            SI            SI    0   0   0   0       0   0   0   \n",
              "4            SI            SI            SI    0   0   0   0       0   0   0   \n",
              "\n",
              "   FE  FLUO  HG  MN  NI  NO3  PB  SDT_ra  SDT_salin  \n",
              "0   0     1   0   0   0    0   0       0          0  \n",
              "1   0     1   0   0   0    0   0       0          0  \n",
              "2   0     1   0   0   0    0   0       0          0  \n",
              "3   0     1   0   0   0    0   0       0          0  \n",
              "4   0     0   0   0   0    1   0       0          0  "
            ],
            "text/html": [
              "\n",
              "  <div id=\"df-69748955-7ba6-43d2-9d7b-0e7925fb877e\">\n",
              "    <div class=\"colab-df-container\">\n",
              "      <div>\n",
              "<style scoped>\n",
              "    .dataframe tbody tr th:only-of-type {\n",
              "        vertical-align: middle;\n",
              "    }\n",
              "\n",
              "    .dataframe tbody tr th {\n",
              "        vertical-align: top;\n",
              "    }\n",
              "\n",
              "    .dataframe thead th {\n",
              "        text-align: right;\n",
              "    }\n",
              "</style>\n",
              "<table border=\"1\" class=\"dataframe\">\n",
              "  <thead>\n",
              "    <tr style=\"text-align: right;\">\n",
              "      <th></th>\n",
              "      <th>CLAVE</th>\n",
              "      <th>SITIO</th>\n",
              "      <th>ORGANISMO_DE_CUENCA</th>\n",
              "      <th>ESTADO</th>\n",
              "      <th>MUNICIPIO</th>\n",
              "      <th>ACUIFERO</th>\n",
              "      <th>SUBTIPO</th>\n",
              "      <th>LONGITUD</th>\n",
              "      <th>LATITUD</th>\n",
              "      <th>PERIODO</th>\n",
              "      <th>ALC_mg/L</th>\n",
              "      <th>CALIDAD_ALC</th>\n",
              "      <th>CONDUCT_mS/cm</th>\n",
              "      <th>CALIDAD_CONDUC</th>\n",
              "      <th>SDT_M_mg/L</th>\n",
              "      <th>CALIDAD_SDT_ra</th>\n",
              "      <th>CALIDAD_SDT_salin</th>\n",
              "      <th>FLUORUROS_mg/L</th>\n",
              "      <th>CALIDAD_FLUO</th>\n",
              "      <th>DUR_mg/L</th>\n",
              "      <th>CALIDAD_DUR</th>\n",
              "      <th>COLI_FEC_NMP/100_mL</th>\n",
              "      <th>CALIDAD_COLI_FEC</th>\n",
              "      <th>N_NO3_mg/L</th>\n",
              "      <th>CALIDAD_N_NO3</th>\n",
              "      <th>AS_TOT_mg/L</th>\n",
              "      <th>CALIDAD_AS</th>\n",
              "      <th>CD_TOT_mg/L</th>\n",
              "      <th>CALIDAD_CD</th>\n",
              "      <th>CR_TOT_mg/L</th>\n",
              "      <th>CALIDAD_CR</th>\n",
              "      <th>HG_TOT_mg/L</th>\n",
              "      <th>CALIDAD_HG</th>\n",
              "      <th>PB_TOT_mg/L</th>\n",
              "      <th>CALIDAD_PB</th>\n",
              "      <th>MN_TOT_mg/L</th>\n",
              "      <th>CALIDAD_MN</th>\n",
              "      <th>FE_TOT_mg/L</th>\n",
              "      <th>CALIDAD_FE</th>\n",
              "      <th>SEMAFORO</th>\n",
              "      <th>CONTAMINANTES</th>\n",
              "      <th>CUMPLE_CON_ALC</th>\n",
              "      <th>CUMPLE_CON_COND</th>\n",
              "      <th>CUMPLE_CON_SDT_ra</th>\n",
              "      <th>CUMPLE_CON_SDT_salin</th>\n",
              "      <th>CUMPLE_CON_FLUO</th>\n",
              "      <th>CUMPLE_CON_DUR</th>\n",
              "      <th>CUMPLE_CON_CF</th>\n",
              "      <th>CUMPLE_CON_NO3</th>\n",
              "      <th>CUMPLE_CON_AS</th>\n",
              "      <th>CUMPLE_CON_CD</th>\n",
              "      <th>CUMPLE_CON_CR</th>\n",
              "      <th>CUMPLE_CON_HG</th>\n",
              "      <th>CUMPLE_CON_PB</th>\n",
              "      <th>CUMPLE_CON_MN</th>\n",
              "      <th>CUMPLE_CON_FE</th>\n",
              "      <th>ALC</th>\n",
              "      <th>AS</th>\n",
              "      <th>CD</th>\n",
              "      <th>CF</th>\n",
              "      <th>CONDUC</th>\n",
              "      <th>CR</th>\n",
              "      <th>DT</th>\n",
              "      <th>FE</th>\n",
              "      <th>FLUO</th>\n",
              "      <th>HG</th>\n",
              "      <th>MN</th>\n",
              "      <th>NI</th>\n",
              "      <th>NO3</th>\n",
              "      <th>PB</th>\n",
              "      <th>SDT_ra</th>\n",
              "      <th>SDT_salin</th>\n",
              "    </tr>\n",
              "  </thead>\n",
              "  <tbody>\n",
              "    <tr>\n",
              "      <th>0</th>\n",
              "      <td>DLAGU6</td>\n",
              "      <td>POZO SAN GIL</td>\n",
              "      <td>LERMA SANTIAGO PACIFICO</td>\n",
              "      <td>AGUASCALIENTES</td>\n",
              "      <td>ASIENTOS</td>\n",
              "      <td>VALLE DE CHICALOTE</td>\n",
              "      <td>POZO</td>\n",
              "      <td>-102.02210</td>\n",
              "      <td>22.20887</td>\n",
              "      <td>2020</td>\n",
              "      <td>229.990</td>\n",
              "      <td>Alta</td>\n",
              "      <td>940.0</td>\n",
              "      <td>Permisible para riego</td>\n",
              "      <td>603.6</td>\n",
              "      <td>Cultivos sensibles</td>\n",
              "      <td>Potable - Dulce</td>\n",
              "      <td>0.9766</td>\n",
              "      <td>Potable - Optima</td>\n",
              "      <td>213.7320</td>\n",
              "      <td>Potable - Dura</td>\n",
              "      <td>1.1</td>\n",
              "      <td>Potable - Excelente</td>\n",
              "      <td>4.184656</td>\n",
              "      <td>Potable - Excelente</td>\n",
              "      <td>0.0161</td>\n",
              "      <td>Apta como FAAP</td>\n",
              "      <td>0.003</td>\n",
              "      <td>Potable - Excelente</td>\n",
              "      <td>0.005</td>\n",
              "      <td>Potable - Excelente</td>\n",
              "      <td>0.0005</td>\n",
              "      <td>Potable - Excelente</td>\n",
              "      <td>0.005</td>\n",
              "      <td>Potable - Excelente</td>\n",
              "      <td>0.0015</td>\n",
              "      <td>Potable - Excelente</td>\n",
              "      <td>0.0891</td>\n",
              "      <td>Potable - Excelente</td>\n",
              "      <td>Verde</td>\n",
              "      <td>FLUO,</td>\n",
              "      <td>SI</td>\n",
              "      <td>SI</td>\n",
              "      <td>SI</td>\n",
              "      <td>SI</td>\n",
              "      <td>SI</td>\n",
              "      <td>SI</td>\n",
              "      <td>SI</td>\n",
              "      <td>SI</td>\n",
              "      <td>SI</td>\n",
              "      <td>SI</td>\n",
              "      <td>SI</td>\n",
              "      <td>SI</td>\n",
              "      <td>SI</td>\n",
              "      <td>SI</td>\n",
              "      <td>SI</td>\n",
              "      <td>0</td>\n",
              "      <td>0</td>\n",
              "      <td>0</td>\n",
              "      <td>0</td>\n",
              "      <td>0</td>\n",
              "      <td>0</td>\n",
              "      <td>0</td>\n",
              "      <td>0</td>\n",
              "      <td>1</td>\n",
              "      <td>0</td>\n",
              "      <td>0</td>\n",
              "      <td>0</td>\n",
              "      <td>0</td>\n",
              "      <td>0</td>\n",
              "      <td>0</td>\n",
              "      <td>0</td>\n",
              "    </tr>\n",
              "    <tr>\n",
              "      <th>1</th>\n",
              "      <td>DLAGU6516</td>\n",
              "      <td>POZO R013 CAADA HONDA</td>\n",
              "      <td>LERMA SANTIAGO PACIFICO</td>\n",
              "      <td>AGUASCALIENTES</td>\n",
              "      <td>AGUASCALIENTES</td>\n",
              "      <td>VALLE DE CHICALOTE</td>\n",
              "      <td>POZO</td>\n",
              "      <td>-102.20075</td>\n",
              "      <td>21.99958</td>\n",
              "      <td>2020</td>\n",
              "      <td>231.990</td>\n",
              "      <td>Alta</td>\n",
              "      <td>608.0</td>\n",
              "      <td>Buena para riego</td>\n",
              "      <td>445.4</td>\n",
              "      <td>Excelente para riego</td>\n",
              "      <td>Potable - Dulce</td>\n",
              "      <td>0.9298</td>\n",
              "      <td>Potable - Optima</td>\n",
              "      <td>185.0514</td>\n",
              "      <td>Potable - Dura</td>\n",
              "      <td>1.1</td>\n",
              "      <td>Potable - Excelente</td>\n",
              "      <td>5.750110</td>\n",
              "      <td>Potable - Buena calidad</td>\n",
              "      <td>0.0134</td>\n",
              "      <td>Apta como FAAP</td>\n",
              "      <td>0.003</td>\n",
              "      <td>Potable - Excelente</td>\n",
              "      <td>0.005</td>\n",
              "      <td>Potable - Excelente</td>\n",
              "      <td>0.0005</td>\n",
              "      <td>Potable - Excelente</td>\n",
              "      <td>0.005</td>\n",
              "      <td>Potable - Excelente</td>\n",
              "      <td>0.0015</td>\n",
              "      <td>Potable - Excelente</td>\n",
              "      <td>0.0250</td>\n",
              "      <td>Potable - Excelente</td>\n",
              "      <td>Verde</td>\n",
              "      <td>FLUO,</td>\n",
              "      <td>SI</td>\n",
              "      <td>SI</td>\n",
              "      <td>SI</td>\n",
              "      <td>SI</td>\n",
              "      <td>SI</td>\n",
              "      <td>SI</td>\n",
              "      <td>SI</td>\n",
              "      <td>SI</td>\n",
              "      <td>SI</td>\n",
              "      <td>SI</td>\n",
              "      <td>SI</td>\n",
              "      <td>SI</td>\n",
              "      <td>SI</td>\n",
              "      <td>SI</td>\n",
              "      <td>SI</td>\n",
              "      <td>0</td>\n",
              "      <td>0</td>\n",
              "      <td>0</td>\n",
              "      <td>0</td>\n",
              "      <td>0</td>\n",
              "      <td>0</td>\n",
              "      <td>0</td>\n",
              "      <td>0</td>\n",
              "      <td>1</td>\n",
              "      <td>0</td>\n",
              "      <td>0</td>\n",
              "      <td>0</td>\n",
              "      <td>0</td>\n",
              "      <td>0</td>\n",
              "      <td>0</td>\n",
              "      <td>0</td>\n",
              "    </tr>\n",
              "    <tr>\n",
              "      <th>2</th>\n",
              "      <td>DLAGU7</td>\n",
              "      <td>POZO COSIO</td>\n",
              "      <td>LERMA SANTIAGO PACIFICO</td>\n",
              "      <td>AGUASCALIENTES</td>\n",
              "      <td>COSIO</td>\n",
              "      <td>VALLE DE AGUASCALIENTES</td>\n",
              "      <td>POZO</td>\n",
              "      <td>-102.28801</td>\n",
              "      <td>22.36685</td>\n",
              "      <td>2020</td>\n",
              "      <td>204.920</td>\n",
              "      <td>Alta</td>\n",
              "      <td>532.0</td>\n",
              "      <td>Buena para riego</td>\n",
              "      <td>342.0</td>\n",
              "      <td>Excelente para riego</td>\n",
              "      <td>Potable - Dulce</td>\n",
              "      <td>1.8045</td>\n",
              "      <td>Alta</td>\n",
              "      <td>120.7190</td>\n",
              "      <td>Potable - Dura</td>\n",
              "      <td>1.1</td>\n",
              "      <td>Potable - Excelente</td>\n",
              "      <td>1.449803</td>\n",
              "      <td>Potable - Excelente</td>\n",
              "      <td>0.0370</td>\n",
              "      <td>No apta como FAAP</td>\n",
              "      <td>0.003</td>\n",
              "      <td>Potable - Excelente</td>\n",
              "      <td>0.005</td>\n",
              "      <td>Potable - Excelente</td>\n",
              "      <td>0.0005</td>\n",
              "      <td>Potable - Excelente</td>\n",
              "      <td>0.005</td>\n",
              "      <td>Potable - Excelente</td>\n",
              "      <td>0.0015</td>\n",
              "      <td>Potable - Excelente</td>\n",
              "      <td>0.0250</td>\n",
              "      <td>Potable - Excelente</td>\n",
              "      <td>Rojo</td>\n",
              "      <td>FLUO,AS,</td>\n",
              "      <td>SI</td>\n",
              "      <td>SI</td>\n",
              "      <td>SI</td>\n",
              "      <td>SI</td>\n",
              "      <td>NO</td>\n",
              "      <td>SI</td>\n",
              "      <td>SI</td>\n",
              "      <td>SI</td>\n",
              "      <td>NO</td>\n",
              "      <td>SI</td>\n",
              "      <td>SI</td>\n",
              "      <td>SI</td>\n",
              "      <td>SI</td>\n",
              "      <td>SI</td>\n",
              "      <td>SI</td>\n",
              "      <td>0</td>\n",
              "      <td>1</td>\n",
              "      <td>0</td>\n",
              "      <td>0</td>\n",
              "      <td>0</td>\n",
              "      <td>0</td>\n",
              "      <td>0</td>\n",
              "      <td>0</td>\n",
              "      <td>1</td>\n",
              "      <td>0</td>\n",
              "      <td>0</td>\n",
              "      <td>0</td>\n",
              "      <td>0</td>\n",
              "      <td>0</td>\n",
              "      <td>0</td>\n",
              "      <td>0</td>\n",
              "    </tr>\n",
              "    <tr>\n",
              "      <th>3</th>\n",
              "      <td>DLAGU9</td>\n",
              "      <td>POZO EL SALITRILLO</td>\n",
              "      <td>LERMA SANTIAGO PACIFICO</td>\n",
              "      <td>AGUASCALIENTES</td>\n",
              "      <td>RINCON DE ROMOS</td>\n",
              "      <td>VALLE DE AGUASCALIENTES</td>\n",
              "      <td>POZO</td>\n",
              "      <td>-102.29449</td>\n",
              "      <td>22.18435</td>\n",
              "      <td>2020</td>\n",
              "      <td>327.000</td>\n",
              "      <td>Alta</td>\n",
              "      <td>686.0</td>\n",
              "      <td>Buena para riego</td>\n",
              "      <td>478.6</td>\n",
              "      <td>Excelente para riego</td>\n",
              "      <td>Potable - Dulce</td>\n",
              "      <td>1.1229</td>\n",
              "      <td>Potable - Optima</td>\n",
              "      <td>199.8790</td>\n",
              "      <td>Potable - Dura</td>\n",
              "      <td>1.1</td>\n",
              "      <td>Potable - Excelente</td>\n",
              "      <td>1.258597</td>\n",
              "      <td>Potable - Excelente</td>\n",
              "      <td>0.0154</td>\n",
              "      <td>Apta como FAAP</td>\n",
              "      <td>0.003</td>\n",
              "      <td>Potable - Excelente</td>\n",
              "      <td>0.005</td>\n",
              "      <td>Potable - Excelente</td>\n",
              "      <td>0.0005</td>\n",
              "      <td>Potable - Excelente</td>\n",
              "      <td>0.005</td>\n",
              "      <td>Potable - Excelente</td>\n",
              "      <td>0.0015</td>\n",
              "      <td>Potable - Excelente</td>\n",
              "      <td>0.0250</td>\n",
              "      <td>Potable - Excelente</td>\n",
              "      <td>Verde</td>\n",
              "      <td>FLUO,</td>\n",
              "      <td>SI</td>\n",
              "      <td>SI</td>\n",
              "      <td>SI</td>\n",
              "      <td>SI</td>\n",
              "      <td>SI</td>\n",
              "      <td>SI</td>\n",
              "      <td>SI</td>\n",
              "      <td>SI</td>\n",
              "      <td>SI</td>\n",
              "      <td>SI</td>\n",
              "      <td>SI</td>\n",
              "      <td>SI</td>\n",
              "      <td>SI</td>\n",
              "      <td>SI</td>\n",
              "      <td>SI</td>\n",
              "      <td>0</td>\n",
              "      <td>0</td>\n",
              "      <td>0</td>\n",
              "      <td>0</td>\n",
              "      <td>0</td>\n",
              "      <td>0</td>\n",
              "      <td>0</td>\n",
              "      <td>0</td>\n",
              "      <td>1</td>\n",
              "      <td>0</td>\n",
              "      <td>0</td>\n",
              "      <td>0</td>\n",
              "      <td>0</td>\n",
              "      <td>0</td>\n",
              "      <td>0</td>\n",
              "      <td>0</td>\n",
              "    </tr>\n",
              "    <tr>\n",
              "      <th>4</th>\n",
              "      <td>DLBAJ107</td>\n",
              "      <td>RANCHO EL TECOLOTE</td>\n",
              "      <td>PENINSULA DE BAJA CALIFORNIA</td>\n",
              "      <td>BAJA CALIFORNIA SUR</td>\n",
              "      <td>LA PAZ</td>\n",
              "      <td>TODOS SANTOS</td>\n",
              "      <td>POZO</td>\n",
              "      <td>-110.24480</td>\n",
              "      <td>23.45138</td>\n",
              "      <td>2020</td>\n",
              "      <td>309.885</td>\n",
              "      <td>Alta</td>\n",
              "      <td>1841.0</td>\n",
              "      <td>Permisible para riego</td>\n",
              "      <td>1179.0</td>\n",
              "      <td>Cultivos con manejo especial</td>\n",
              "      <td>Ligeramente salobres</td>\n",
              "      <td>0.2343</td>\n",
              "      <td>Baja</td>\n",
              "      <td>476.9872</td>\n",
              "      <td>Potable - Dura</td>\n",
              "      <td>291.0</td>\n",
              "      <td>Aceptable</td>\n",
              "      <td>15.672251</td>\n",
              "      <td>No apta como FAAP</td>\n",
              "      <td>0.0100</td>\n",
              "      <td>Potable - Excelente</td>\n",
              "      <td>0.003</td>\n",
              "      <td>Potable - Excelente</td>\n",
              "      <td>0.005</td>\n",
              "      <td>Potable - Excelente</td>\n",
              "      <td>0.0005</td>\n",
              "      <td>Potable - Excelente</td>\n",
              "      <td>0.005</td>\n",
              "      <td>Potable - Excelente</td>\n",
              "      <td>0.0015</td>\n",
              "      <td>Potable - Excelente</td>\n",
              "      <td>0.0250</td>\n",
              "      <td>Potable - Excelente</td>\n",
              "      <td>Rojo</td>\n",
              "      <td>NO3,</td>\n",
              "      <td>SI</td>\n",
              "      <td>SI</td>\n",
              "      <td>SI</td>\n",
              "      <td>SI</td>\n",
              "      <td>SI</td>\n",
              "      <td>SI</td>\n",
              "      <td>SI</td>\n",
              "      <td>NO</td>\n",
              "      <td>SI</td>\n",
              "      <td>SI</td>\n",
              "      <td>SI</td>\n",
              "      <td>SI</td>\n",
              "      <td>SI</td>\n",
              "      <td>SI</td>\n",
              "      <td>SI</td>\n",
              "      <td>0</td>\n",
              "      <td>0</td>\n",
              "      <td>0</td>\n",
              "      <td>0</td>\n",
              "      <td>0</td>\n",
              "      <td>0</td>\n",
              "      <td>0</td>\n",
              "      <td>0</td>\n",
              "      <td>0</td>\n",
              "      <td>0</td>\n",
              "      <td>0</td>\n",
              "      <td>0</td>\n",
              "      <td>1</td>\n",
              "      <td>0</td>\n",
              "      <td>0</td>\n",
              "      <td>0</td>\n",
              "    </tr>\n",
              "  </tbody>\n",
              "</table>\n",
              "</div>\n",
              "      <button class=\"colab-df-convert\" onclick=\"convertToInteractive('df-69748955-7ba6-43d2-9d7b-0e7925fb877e')\"\n",
              "              title=\"Convert this dataframe to an interactive table.\"\n",
              "              style=\"display:none;\">\n",
              "        \n",
              "  <svg xmlns=\"http://www.w3.org/2000/svg\" height=\"24px\"viewBox=\"0 0 24 24\"\n",
              "       width=\"24px\">\n",
              "    <path d=\"M0 0h24v24H0V0z\" fill=\"none\"/>\n",
              "    <path d=\"M18.56 5.44l.94 2.06.94-2.06 2.06-.94-2.06-.94-.94-2.06-.94 2.06-2.06.94zm-11 1L8.5 8.5l.94-2.06 2.06-.94-2.06-.94L8.5 2.5l-.94 2.06-2.06.94zm10 10l.94 2.06.94-2.06 2.06-.94-2.06-.94-.94-2.06-.94 2.06-2.06.94z\"/><path d=\"M17.41 7.96l-1.37-1.37c-.4-.4-.92-.59-1.43-.59-.52 0-1.04.2-1.43.59L10.3 9.45l-7.72 7.72c-.78.78-.78 2.05 0 2.83L4 21.41c.39.39.9.59 1.41.59.51 0 1.02-.2 1.41-.59l7.78-7.78 2.81-2.81c.8-.78.8-2.07 0-2.86zM5.41 20L4 18.59l7.72-7.72 1.47 1.35L5.41 20z\"/>\n",
              "  </svg>\n",
              "      </button>\n",
              "      \n",
              "  <style>\n",
              "    .colab-df-container {\n",
              "      display:flex;\n",
              "      flex-wrap:wrap;\n",
              "      gap: 12px;\n",
              "    }\n",
              "\n",
              "    .colab-df-convert {\n",
              "      background-color: #E8F0FE;\n",
              "      border: none;\n",
              "      border-radius: 50%;\n",
              "      cursor: pointer;\n",
              "      display: none;\n",
              "      fill: #1967D2;\n",
              "      height: 32px;\n",
              "      padding: 0 0 0 0;\n",
              "      width: 32px;\n",
              "    }\n",
              "\n",
              "    .colab-df-convert:hover {\n",
              "      background-color: #E2EBFA;\n",
              "      box-shadow: 0px 1px 2px rgba(60, 64, 67, 0.3), 0px 1px 3px 1px rgba(60, 64, 67, 0.15);\n",
              "      fill: #174EA6;\n",
              "    }\n",
              "\n",
              "    [theme=dark] .colab-df-convert {\n",
              "      background-color: #3B4455;\n",
              "      fill: #D2E3FC;\n",
              "    }\n",
              "\n",
              "    [theme=dark] .colab-df-convert:hover {\n",
              "      background-color: #434B5C;\n",
              "      box-shadow: 0px 1px 3px 1px rgba(0, 0, 0, 0.15);\n",
              "      filter: drop-shadow(0px 1px 2px rgba(0, 0, 0, 0.3));\n",
              "      fill: #FFFFFF;\n",
              "    }\n",
              "  </style>\n",
              "\n",
              "      <script>\n",
              "        const buttonEl =\n",
              "          document.querySelector('#df-69748955-7ba6-43d2-9d7b-0e7925fb877e button.colab-df-convert');\n",
              "        buttonEl.style.display =\n",
              "          google.colab.kernel.accessAllowed ? 'block' : 'none';\n",
              "\n",
              "        async function convertToInteractive(key) {\n",
              "          const element = document.querySelector('#df-69748955-7ba6-43d2-9d7b-0e7925fb877e');\n",
              "          const dataTable =\n",
              "            await google.colab.kernel.invokeFunction('convertToInteractive',\n",
              "                                                     [key], {});\n",
              "          if (!dataTable) return;\n",
              "\n",
              "          const docLinkHtml = 'Like what you see? Visit the ' +\n",
              "            '<a target=\"_blank\" href=https://colab.research.google.com/notebooks/data_table.ipynb>data table notebook</a>'\n",
              "            + ' to learn more about interactive tables.';\n",
              "          element.innerHTML = '';\n",
              "          dataTable['output_type'] = 'display_data';\n",
              "          await google.colab.output.renderOutput(dataTable, element);\n",
              "          const docLink = document.createElement('div');\n",
              "          docLink.innerHTML = docLinkHtml;\n",
              "          element.appendChild(docLink);\n",
              "        }\n",
              "      </script>\n",
              "    </div>\n",
              "  </div>\n",
              "  "
            ]
          },
          "metadata": {},
          "execution_count": 19
        }
      ]
    },
    {
      "cell_type": "markdown",
      "source": [
        "8. Eliminamos la columna contaminantes, ya que la hemos convertido en columnas dummy"
      ],
      "metadata": {
        "id": "GNzUja04SlFQ"
      }
    },
    {
      "cell_type": "code",
      "source": [
        "clean_dfreto2.drop(\"CONTAMINANTES\",axis=1,inplace=True)"
      ],
      "metadata": {
        "id": "yHHrVpOGvGUV"
      },
      "execution_count": null,
      "outputs": []
    },
    {
      "cell_type": "code",
      "source": [
        "df_h2o_s = clean_dfreto2.copy()"
      ],
      "metadata": {
        "id": "dErUsf2WvPgS"
      },
      "execution_count": null,
      "outputs": []
    },
    {
      "cell_type": "code",
      "source": [
        "df_h2o_s.head()"
      ],
      "metadata": {
        "colab": {
          "base_uri": "https://localhost:8080/",
          "height": 392
        },
        "id": "XcXcFPAavbDx",
        "outputId": "1dc0e6c1-3bb7-4977-9755-e8d60ef6d6ba"
      },
      "execution_count": null,
      "outputs": [
        {
          "output_type": "execute_result",
          "data": {
            "text/plain": [
              "       CLAVE                  SITIO           ORGANISMO_DE_CUENCA  \\\n",
              "0     DLAGU6           POZO SAN GIL       LERMA SANTIAGO PACIFICO   \n",
              "1  DLAGU6516  POZO R013 CAADA HONDA       LERMA SANTIAGO PACIFICO   \n",
              "2     DLAGU7             POZO COSIO       LERMA SANTIAGO PACIFICO   \n",
              "3     DLAGU9     POZO EL SALITRILLO       LERMA SANTIAGO PACIFICO   \n",
              "4   DLBAJ107     RANCHO EL TECOLOTE  PENINSULA DE BAJA CALIFORNIA   \n",
              "\n",
              "                ESTADO        MUNICIPIO                 ACUIFERO SUBTIPO  \\\n",
              "0       AGUASCALIENTES         ASIENTOS       VALLE DE CHICALOTE    POZO   \n",
              "1       AGUASCALIENTES   AGUASCALIENTES       VALLE DE CHICALOTE    POZO   \n",
              "2       AGUASCALIENTES            COSIO  VALLE DE AGUASCALIENTES    POZO   \n",
              "3       AGUASCALIENTES  RINCON DE ROMOS  VALLE DE AGUASCALIENTES    POZO   \n",
              "4  BAJA CALIFORNIA SUR           LA PAZ             TODOS SANTOS    POZO   \n",
              "\n",
              "    LONGITUD   LATITUD  PERIODO  ALC_mg/L CALIDAD_ALC  CONDUCT_mS/cm  \\\n",
              "0 -102.02210  22.20887     2020   229.990        Alta          940.0   \n",
              "1 -102.20075  21.99958     2020   231.990        Alta          608.0   \n",
              "2 -102.28801  22.36685     2020   204.920        Alta          532.0   \n",
              "3 -102.29449  22.18435     2020   327.000        Alta          686.0   \n",
              "4 -110.24480  23.45138     2020   309.885        Alta         1841.0   \n",
              "\n",
              "          CALIDAD_CONDUC  SDT_M_mg/L                CALIDAD_SDT_ra  \\\n",
              "0  Permisible para riego       603.6            Cultivos sensibles   \n",
              "1       Buena para riego       445.4          Excelente para riego   \n",
              "2       Buena para riego       342.0          Excelente para riego   \n",
              "3       Buena para riego       478.6          Excelente para riego   \n",
              "4  Permisible para riego      1179.0  Cultivos con manejo especial   \n",
              "\n",
              "      CALIDAD_SDT_salin  FLUORUROS_mg/L      CALIDAD_FLUO  DUR_mg/L  \\\n",
              "0       Potable - Dulce          0.9766  Potable - Optima  213.7320   \n",
              "1       Potable - Dulce          0.9298  Potable - Optima  185.0514   \n",
              "2       Potable - Dulce          1.8045              Alta  120.7190   \n",
              "3       Potable - Dulce          1.1229  Potable - Optima  199.8790   \n",
              "4  Ligeramente salobres          0.2343              Baja  476.9872   \n",
              "\n",
              "      CALIDAD_DUR  COLI_FEC_NMP/100_mL     CALIDAD_COLI_FEC  N_NO3_mg/L  \\\n",
              "0  Potable - Dura                  1.1  Potable - Excelente    4.184656   \n",
              "1  Potable - Dura                  1.1  Potable - Excelente    5.750110   \n",
              "2  Potable - Dura                  1.1  Potable - Excelente    1.449803   \n",
              "3  Potable - Dura                  1.1  Potable - Excelente    1.258597   \n",
              "4  Potable - Dura                291.0            Aceptable   15.672251   \n",
              "\n",
              "             CALIDAD_N_NO3  AS_TOT_mg/L           CALIDAD_AS  CD_TOT_mg/L  \\\n",
              "0      Potable - Excelente       0.0161       Apta como FAAP        0.003   \n",
              "1  Potable - Buena calidad       0.0134       Apta como FAAP        0.003   \n",
              "2      Potable - Excelente       0.0370    No apta como FAAP        0.003   \n",
              "3      Potable - Excelente       0.0154       Apta como FAAP        0.003   \n",
              "4        No apta como FAAP       0.0100  Potable - Excelente        0.003   \n",
              "\n",
              "            CALIDAD_CD  CR_TOT_mg/L           CALIDAD_CR  HG_TOT_mg/L  \\\n",
              "0  Potable - Excelente        0.005  Potable - Excelente       0.0005   \n",
              "1  Potable - Excelente        0.005  Potable - Excelente       0.0005   \n",
              "2  Potable - Excelente        0.005  Potable - Excelente       0.0005   \n",
              "3  Potable - Excelente        0.005  Potable - Excelente       0.0005   \n",
              "4  Potable - Excelente        0.005  Potable - Excelente       0.0005   \n",
              "\n",
              "            CALIDAD_HG  PB_TOT_mg/L           CALIDAD_PB  MN_TOT_mg/L  \\\n",
              "0  Potable - Excelente        0.005  Potable - Excelente       0.0015   \n",
              "1  Potable - Excelente        0.005  Potable - Excelente       0.0015   \n",
              "2  Potable - Excelente        0.005  Potable - Excelente       0.0015   \n",
              "3  Potable - Excelente        0.005  Potable - Excelente       0.0015   \n",
              "4  Potable - Excelente        0.005  Potable - Excelente       0.0015   \n",
              "\n",
              "            CALIDAD_MN  FE_TOT_mg/L           CALIDAD_FE SEMAFORO  \\\n",
              "0  Potable - Excelente       0.0891  Potable - Excelente    Verde   \n",
              "1  Potable - Excelente       0.0250  Potable - Excelente    Verde   \n",
              "2  Potable - Excelente       0.0250  Potable - Excelente     Rojo   \n",
              "3  Potable - Excelente       0.0250  Potable - Excelente    Verde   \n",
              "4  Potable - Excelente       0.0250  Potable - Excelente     Rojo   \n",
              "\n",
              "  CUMPLE_CON_ALC CUMPLE_CON_COND CUMPLE_CON_SDT_ra CUMPLE_CON_SDT_salin  \\\n",
              "0             SI              SI                SI                   SI   \n",
              "1             SI              SI                SI                   SI   \n",
              "2             SI              SI                SI                   SI   \n",
              "3             SI              SI                SI                   SI   \n",
              "4             SI              SI                SI                   SI   \n",
              "\n",
              "  CUMPLE_CON_FLUO CUMPLE_CON_DUR CUMPLE_CON_CF CUMPLE_CON_NO3 CUMPLE_CON_AS  \\\n",
              "0              SI             SI            SI             SI            SI   \n",
              "1              SI             SI            SI             SI            SI   \n",
              "2              NO             SI            SI             SI            NO   \n",
              "3              SI             SI            SI             SI            SI   \n",
              "4              SI             SI            SI             NO            SI   \n",
              "\n",
              "  CUMPLE_CON_CD CUMPLE_CON_CR CUMPLE_CON_HG CUMPLE_CON_PB CUMPLE_CON_MN  \\\n",
              "0            SI            SI            SI            SI            SI   \n",
              "1            SI            SI            SI            SI            SI   \n",
              "2            SI            SI            SI            SI            SI   \n",
              "3            SI            SI            SI            SI            SI   \n",
              "4            SI            SI            SI            SI            SI   \n",
              "\n",
              "  CUMPLE_CON_FE  ALC  AS  CD  CF  CONDUC  CR  DT  FE  FLUO  HG  MN  NI  NO3  \\\n",
              "0            SI    0   0   0   0       0   0   0   0     1   0   0   0    0   \n",
              "1            SI    0   0   0   0       0   0   0   0     1   0   0   0    0   \n",
              "2            SI    0   1   0   0       0   0   0   0     1   0   0   0    0   \n",
              "3            SI    0   0   0   0       0   0   0   0     1   0   0   0    0   \n",
              "4            SI    0   0   0   0       0   0   0   0     0   0   0   0    1   \n",
              "\n",
              "   PB  SDT_ra  SDT_salin  \n",
              "0   0       0          0  \n",
              "1   0       0          0  \n",
              "2   0       0          0  \n",
              "3   0       0          0  \n",
              "4   0       0          0  "
            ],
            "text/html": [
              "\n",
              "  <div id=\"df-f3c127db-3221-4f10-ae04-ed749a555355\">\n",
              "    <div class=\"colab-df-container\">\n",
              "      <div>\n",
              "<style scoped>\n",
              "    .dataframe tbody tr th:only-of-type {\n",
              "        vertical-align: middle;\n",
              "    }\n",
              "\n",
              "    .dataframe tbody tr th {\n",
              "        vertical-align: top;\n",
              "    }\n",
              "\n",
              "    .dataframe thead th {\n",
              "        text-align: right;\n",
              "    }\n",
              "</style>\n",
              "<table border=\"1\" class=\"dataframe\">\n",
              "  <thead>\n",
              "    <tr style=\"text-align: right;\">\n",
              "      <th></th>\n",
              "      <th>CLAVE</th>\n",
              "      <th>SITIO</th>\n",
              "      <th>ORGANISMO_DE_CUENCA</th>\n",
              "      <th>ESTADO</th>\n",
              "      <th>MUNICIPIO</th>\n",
              "      <th>ACUIFERO</th>\n",
              "      <th>SUBTIPO</th>\n",
              "      <th>LONGITUD</th>\n",
              "      <th>LATITUD</th>\n",
              "      <th>PERIODO</th>\n",
              "      <th>ALC_mg/L</th>\n",
              "      <th>CALIDAD_ALC</th>\n",
              "      <th>CONDUCT_mS/cm</th>\n",
              "      <th>CALIDAD_CONDUC</th>\n",
              "      <th>SDT_M_mg/L</th>\n",
              "      <th>CALIDAD_SDT_ra</th>\n",
              "      <th>CALIDAD_SDT_salin</th>\n",
              "      <th>FLUORUROS_mg/L</th>\n",
              "      <th>CALIDAD_FLUO</th>\n",
              "      <th>DUR_mg/L</th>\n",
              "      <th>CALIDAD_DUR</th>\n",
              "      <th>COLI_FEC_NMP/100_mL</th>\n",
              "      <th>CALIDAD_COLI_FEC</th>\n",
              "      <th>N_NO3_mg/L</th>\n",
              "      <th>CALIDAD_N_NO3</th>\n",
              "      <th>AS_TOT_mg/L</th>\n",
              "      <th>CALIDAD_AS</th>\n",
              "      <th>CD_TOT_mg/L</th>\n",
              "      <th>CALIDAD_CD</th>\n",
              "      <th>CR_TOT_mg/L</th>\n",
              "      <th>CALIDAD_CR</th>\n",
              "      <th>HG_TOT_mg/L</th>\n",
              "      <th>CALIDAD_HG</th>\n",
              "      <th>PB_TOT_mg/L</th>\n",
              "      <th>CALIDAD_PB</th>\n",
              "      <th>MN_TOT_mg/L</th>\n",
              "      <th>CALIDAD_MN</th>\n",
              "      <th>FE_TOT_mg/L</th>\n",
              "      <th>CALIDAD_FE</th>\n",
              "      <th>SEMAFORO</th>\n",
              "      <th>CUMPLE_CON_ALC</th>\n",
              "      <th>CUMPLE_CON_COND</th>\n",
              "      <th>CUMPLE_CON_SDT_ra</th>\n",
              "      <th>CUMPLE_CON_SDT_salin</th>\n",
              "      <th>CUMPLE_CON_FLUO</th>\n",
              "      <th>CUMPLE_CON_DUR</th>\n",
              "      <th>CUMPLE_CON_CF</th>\n",
              "      <th>CUMPLE_CON_NO3</th>\n",
              "      <th>CUMPLE_CON_AS</th>\n",
              "      <th>CUMPLE_CON_CD</th>\n",
              "      <th>CUMPLE_CON_CR</th>\n",
              "      <th>CUMPLE_CON_HG</th>\n",
              "      <th>CUMPLE_CON_PB</th>\n",
              "      <th>CUMPLE_CON_MN</th>\n",
              "      <th>CUMPLE_CON_FE</th>\n",
              "      <th>ALC</th>\n",
              "      <th>AS</th>\n",
              "      <th>CD</th>\n",
              "      <th>CF</th>\n",
              "      <th>CONDUC</th>\n",
              "      <th>CR</th>\n",
              "      <th>DT</th>\n",
              "      <th>FE</th>\n",
              "      <th>FLUO</th>\n",
              "      <th>HG</th>\n",
              "      <th>MN</th>\n",
              "      <th>NI</th>\n",
              "      <th>NO3</th>\n",
              "      <th>PB</th>\n",
              "      <th>SDT_ra</th>\n",
              "      <th>SDT_salin</th>\n",
              "    </tr>\n",
              "  </thead>\n",
              "  <tbody>\n",
              "    <tr>\n",
              "      <th>0</th>\n",
              "      <td>DLAGU6</td>\n",
              "      <td>POZO SAN GIL</td>\n",
              "      <td>LERMA SANTIAGO PACIFICO</td>\n",
              "      <td>AGUASCALIENTES</td>\n",
              "      <td>ASIENTOS</td>\n",
              "      <td>VALLE DE CHICALOTE</td>\n",
              "      <td>POZO</td>\n",
              "      <td>-102.02210</td>\n",
              "      <td>22.20887</td>\n",
              "      <td>2020</td>\n",
              "      <td>229.990</td>\n",
              "      <td>Alta</td>\n",
              "      <td>940.0</td>\n",
              "      <td>Permisible para riego</td>\n",
              "      <td>603.6</td>\n",
              "      <td>Cultivos sensibles</td>\n",
              "      <td>Potable - Dulce</td>\n",
              "      <td>0.9766</td>\n",
              "      <td>Potable - Optima</td>\n",
              "      <td>213.7320</td>\n",
              "      <td>Potable - Dura</td>\n",
              "      <td>1.1</td>\n",
              "      <td>Potable - Excelente</td>\n",
              "      <td>4.184656</td>\n",
              "      <td>Potable - Excelente</td>\n",
              "      <td>0.0161</td>\n",
              "      <td>Apta como FAAP</td>\n",
              "      <td>0.003</td>\n",
              "      <td>Potable - Excelente</td>\n",
              "      <td>0.005</td>\n",
              "      <td>Potable - Excelente</td>\n",
              "      <td>0.0005</td>\n",
              "      <td>Potable - Excelente</td>\n",
              "      <td>0.005</td>\n",
              "      <td>Potable - Excelente</td>\n",
              "      <td>0.0015</td>\n",
              "      <td>Potable - Excelente</td>\n",
              "      <td>0.0891</td>\n",
              "      <td>Potable - Excelente</td>\n",
              "      <td>Verde</td>\n",
              "      <td>SI</td>\n",
              "      <td>SI</td>\n",
              "      <td>SI</td>\n",
              "      <td>SI</td>\n",
              "      <td>SI</td>\n",
              "      <td>SI</td>\n",
              "      <td>SI</td>\n",
              "      <td>SI</td>\n",
              "      <td>SI</td>\n",
              "      <td>SI</td>\n",
              "      <td>SI</td>\n",
              "      <td>SI</td>\n",
              "      <td>SI</td>\n",
              "      <td>SI</td>\n",
              "      <td>SI</td>\n",
              "      <td>0</td>\n",
              "      <td>0</td>\n",
              "      <td>0</td>\n",
              "      <td>0</td>\n",
              "      <td>0</td>\n",
              "      <td>0</td>\n",
              "      <td>0</td>\n",
              "      <td>0</td>\n",
              "      <td>1</td>\n",
              "      <td>0</td>\n",
              "      <td>0</td>\n",
              "      <td>0</td>\n",
              "      <td>0</td>\n",
              "      <td>0</td>\n",
              "      <td>0</td>\n",
              "      <td>0</td>\n",
              "    </tr>\n",
              "    <tr>\n",
              "      <th>1</th>\n",
              "      <td>DLAGU6516</td>\n",
              "      <td>POZO R013 CAADA HONDA</td>\n",
              "      <td>LERMA SANTIAGO PACIFICO</td>\n",
              "      <td>AGUASCALIENTES</td>\n",
              "      <td>AGUASCALIENTES</td>\n",
              "      <td>VALLE DE CHICALOTE</td>\n",
              "      <td>POZO</td>\n",
              "      <td>-102.20075</td>\n",
              "      <td>21.99958</td>\n",
              "      <td>2020</td>\n",
              "      <td>231.990</td>\n",
              "      <td>Alta</td>\n",
              "      <td>608.0</td>\n",
              "      <td>Buena para riego</td>\n",
              "      <td>445.4</td>\n",
              "      <td>Excelente para riego</td>\n",
              "      <td>Potable - Dulce</td>\n",
              "      <td>0.9298</td>\n",
              "      <td>Potable - Optima</td>\n",
              "      <td>185.0514</td>\n",
              "      <td>Potable - Dura</td>\n",
              "      <td>1.1</td>\n",
              "      <td>Potable - Excelente</td>\n",
              "      <td>5.750110</td>\n",
              "      <td>Potable - Buena calidad</td>\n",
              "      <td>0.0134</td>\n",
              "      <td>Apta como FAAP</td>\n",
              "      <td>0.003</td>\n",
              "      <td>Potable - Excelente</td>\n",
              "      <td>0.005</td>\n",
              "      <td>Potable - Excelente</td>\n",
              "      <td>0.0005</td>\n",
              "      <td>Potable - Excelente</td>\n",
              "      <td>0.005</td>\n",
              "      <td>Potable - Excelente</td>\n",
              "      <td>0.0015</td>\n",
              "      <td>Potable - Excelente</td>\n",
              "      <td>0.0250</td>\n",
              "      <td>Potable - Excelente</td>\n",
              "      <td>Verde</td>\n",
              "      <td>SI</td>\n",
              "      <td>SI</td>\n",
              "      <td>SI</td>\n",
              "      <td>SI</td>\n",
              "      <td>SI</td>\n",
              "      <td>SI</td>\n",
              "      <td>SI</td>\n",
              "      <td>SI</td>\n",
              "      <td>SI</td>\n",
              "      <td>SI</td>\n",
              "      <td>SI</td>\n",
              "      <td>SI</td>\n",
              "      <td>SI</td>\n",
              "      <td>SI</td>\n",
              "      <td>SI</td>\n",
              "      <td>0</td>\n",
              "      <td>0</td>\n",
              "      <td>0</td>\n",
              "      <td>0</td>\n",
              "      <td>0</td>\n",
              "      <td>0</td>\n",
              "      <td>0</td>\n",
              "      <td>0</td>\n",
              "      <td>1</td>\n",
              "      <td>0</td>\n",
              "      <td>0</td>\n",
              "      <td>0</td>\n",
              "      <td>0</td>\n",
              "      <td>0</td>\n",
              "      <td>0</td>\n",
              "      <td>0</td>\n",
              "    </tr>\n",
              "    <tr>\n",
              "      <th>2</th>\n",
              "      <td>DLAGU7</td>\n",
              "      <td>POZO COSIO</td>\n",
              "      <td>LERMA SANTIAGO PACIFICO</td>\n",
              "      <td>AGUASCALIENTES</td>\n",
              "      <td>COSIO</td>\n",
              "      <td>VALLE DE AGUASCALIENTES</td>\n",
              "      <td>POZO</td>\n",
              "      <td>-102.28801</td>\n",
              "      <td>22.36685</td>\n",
              "      <td>2020</td>\n",
              "      <td>204.920</td>\n",
              "      <td>Alta</td>\n",
              "      <td>532.0</td>\n",
              "      <td>Buena para riego</td>\n",
              "      <td>342.0</td>\n",
              "      <td>Excelente para riego</td>\n",
              "      <td>Potable - Dulce</td>\n",
              "      <td>1.8045</td>\n",
              "      <td>Alta</td>\n",
              "      <td>120.7190</td>\n",
              "      <td>Potable - Dura</td>\n",
              "      <td>1.1</td>\n",
              "      <td>Potable - Excelente</td>\n",
              "      <td>1.449803</td>\n",
              "      <td>Potable - Excelente</td>\n",
              "      <td>0.0370</td>\n",
              "      <td>No apta como FAAP</td>\n",
              "      <td>0.003</td>\n",
              "      <td>Potable - Excelente</td>\n",
              "      <td>0.005</td>\n",
              "      <td>Potable - Excelente</td>\n",
              "      <td>0.0005</td>\n",
              "      <td>Potable - Excelente</td>\n",
              "      <td>0.005</td>\n",
              "      <td>Potable - Excelente</td>\n",
              "      <td>0.0015</td>\n",
              "      <td>Potable - Excelente</td>\n",
              "      <td>0.0250</td>\n",
              "      <td>Potable - Excelente</td>\n",
              "      <td>Rojo</td>\n",
              "      <td>SI</td>\n",
              "      <td>SI</td>\n",
              "      <td>SI</td>\n",
              "      <td>SI</td>\n",
              "      <td>NO</td>\n",
              "      <td>SI</td>\n",
              "      <td>SI</td>\n",
              "      <td>SI</td>\n",
              "      <td>NO</td>\n",
              "      <td>SI</td>\n",
              "      <td>SI</td>\n",
              "      <td>SI</td>\n",
              "      <td>SI</td>\n",
              "      <td>SI</td>\n",
              "      <td>SI</td>\n",
              "      <td>0</td>\n",
              "      <td>1</td>\n",
              "      <td>0</td>\n",
              "      <td>0</td>\n",
              "      <td>0</td>\n",
              "      <td>0</td>\n",
              "      <td>0</td>\n",
              "      <td>0</td>\n",
              "      <td>1</td>\n",
              "      <td>0</td>\n",
              "      <td>0</td>\n",
              "      <td>0</td>\n",
              "      <td>0</td>\n",
              "      <td>0</td>\n",
              "      <td>0</td>\n",
              "      <td>0</td>\n",
              "    </tr>\n",
              "    <tr>\n",
              "      <th>3</th>\n",
              "      <td>DLAGU9</td>\n",
              "      <td>POZO EL SALITRILLO</td>\n",
              "      <td>LERMA SANTIAGO PACIFICO</td>\n",
              "      <td>AGUASCALIENTES</td>\n",
              "      <td>RINCON DE ROMOS</td>\n",
              "      <td>VALLE DE AGUASCALIENTES</td>\n",
              "      <td>POZO</td>\n",
              "      <td>-102.29449</td>\n",
              "      <td>22.18435</td>\n",
              "      <td>2020</td>\n",
              "      <td>327.000</td>\n",
              "      <td>Alta</td>\n",
              "      <td>686.0</td>\n",
              "      <td>Buena para riego</td>\n",
              "      <td>478.6</td>\n",
              "      <td>Excelente para riego</td>\n",
              "      <td>Potable - Dulce</td>\n",
              "      <td>1.1229</td>\n",
              "      <td>Potable - Optima</td>\n",
              "      <td>199.8790</td>\n",
              "      <td>Potable - Dura</td>\n",
              "      <td>1.1</td>\n",
              "      <td>Potable - Excelente</td>\n",
              "      <td>1.258597</td>\n",
              "      <td>Potable - Excelente</td>\n",
              "      <td>0.0154</td>\n",
              "      <td>Apta como FAAP</td>\n",
              "      <td>0.003</td>\n",
              "      <td>Potable - Excelente</td>\n",
              "      <td>0.005</td>\n",
              "      <td>Potable - Excelente</td>\n",
              "      <td>0.0005</td>\n",
              "      <td>Potable - Excelente</td>\n",
              "      <td>0.005</td>\n",
              "      <td>Potable - Excelente</td>\n",
              "      <td>0.0015</td>\n",
              "      <td>Potable - Excelente</td>\n",
              "      <td>0.0250</td>\n",
              "      <td>Potable - Excelente</td>\n",
              "      <td>Verde</td>\n",
              "      <td>SI</td>\n",
              "      <td>SI</td>\n",
              "      <td>SI</td>\n",
              "      <td>SI</td>\n",
              "      <td>SI</td>\n",
              "      <td>SI</td>\n",
              "      <td>SI</td>\n",
              "      <td>SI</td>\n",
              "      <td>SI</td>\n",
              "      <td>SI</td>\n",
              "      <td>SI</td>\n",
              "      <td>SI</td>\n",
              "      <td>SI</td>\n",
              "      <td>SI</td>\n",
              "      <td>SI</td>\n",
              "      <td>0</td>\n",
              "      <td>0</td>\n",
              "      <td>0</td>\n",
              "      <td>0</td>\n",
              "      <td>0</td>\n",
              "      <td>0</td>\n",
              "      <td>0</td>\n",
              "      <td>0</td>\n",
              "      <td>1</td>\n",
              "      <td>0</td>\n",
              "      <td>0</td>\n",
              "      <td>0</td>\n",
              "      <td>0</td>\n",
              "      <td>0</td>\n",
              "      <td>0</td>\n",
              "      <td>0</td>\n",
              "    </tr>\n",
              "    <tr>\n",
              "      <th>4</th>\n",
              "      <td>DLBAJ107</td>\n",
              "      <td>RANCHO EL TECOLOTE</td>\n",
              "      <td>PENINSULA DE BAJA CALIFORNIA</td>\n",
              "      <td>BAJA CALIFORNIA SUR</td>\n",
              "      <td>LA PAZ</td>\n",
              "      <td>TODOS SANTOS</td>\n",
              "      <td>POZO</td>\n",
              "      <td>-110.24480</td>\n",
              "      <td>23.45138</td>\n",
              "      <td>2020</td>\n",
              "      <td>309.885</td>\n",
              "      <td>Alta</td>\n",
              "      <td>1841.0</td>\n",
              "      <td>Permisible para riego</td>\n",
              "      <td>1179.0</td>\n",
              "      <td>Cultivos con manejo especial</td>\n",
              "      <td>Ligeramente salobres</td>\n",
              "      <td>0.2343</td>\n",
              "      <td>Baja</td>\n",
              "      <td>476.9872</td>\n",
              "      <td>Potable - Dura</td>\n",
              "      <td>291.0</td>\n",
              "      <td>Aceptable</td>\n",
              "      <td>15.672251</td>\n",
              "      <td>No apta como FAAP</td>\n",
              "      <td>0.0100</td>\n",
              "      <td>Potable - Excelente</td>\n",
              "      <td>0.003</td>\n",
              "      <td>Potable - Excelente</td>\n",
              "      <td>0.005</td>\n",
              "      <td>Potable - Excelente</td>\n",
              "      <td>0.0005</td>\n",
              "      <td>Potable - Excelente</td>\n",
              "      <td>0.005</td>\n",
              "      <td>Potable - Excelente</td>\n",
              "      <td>0.0015</td>\n",
              "      <td>Potable - Excelente</td>\n",
              "      <td>0.0250</td>\n",
              "      <td>Potable - Excelente</td>\n",
              "      <td>Rojo</td>\n",
              "      <td>SI</td>\n",
              "      <td>SI</td>\n",
              "      <td>SI</td>\n",
              "      <td>SI</td>\n",
              "      <td>SI</td>\n",
              "      <td>SI</td>\n",
              "      <td>SI</td>\n",
              "      <td>NO</td>\n",
              "      <td>SI</td>\n",
              "      <td>SI</td>\n",
              "      <td>SI</td>\n",
              "      <td>SI</td>\n",
              "      <td>SI</td>\n",
              "      <td>SI</td>\n",
              "      <td>SI</td>\n",
              "      <td>0</td>\n",
              "      <td>0</td>\n",
              "      <td>0</td>\n",
              "      <td>0</td>\n",
              "      <td>0</td>\n",
              "      <td>0</td>\n",
              "      <td>0</td>\n",
              "      <td>0</td>\n",
              "      <td>0</td>\n",
              "      <td>0</td>\n",
              "      <td>0</td>\n",
              "      <td>0</td>\n",
              "      <td>1</td>\n",
              "      <td>0</td>\n",
              "      <td>0</td>\n",
              "      <td>0</td>\n",
              "    </tr>\n",
              "  </tbody>\n",
              "</table>\n",
              "</div>\n",
              "      <button class=\"colab-df-convert\" onclick=\"convertToInteractive('df-f3c127db-3221-4f10-ae04-ed749a555355')\"\n",
              "              title=\"Convert this dataframe to an interactive table.\"\n",
              "              style=\"display:none;\">\n",
              "        \n",
              "  <svg xmlns=\"http://www.w3.org/2000/svg\" height=\"24px\"viewBox=\"0 0 24 24\"\n",
              "       width=\"24px\">\n",
              "    <path d=\"M0 0h24v24H0V0z\" fill=\"none\"/>\n",
              "    <path d=\"M18.56 5.44l.94 2.06.94-2.06 2.06-.94-2.06-.94-.94-2.06-.94 2.06-2.06.94zm-11 1L8.5 8.5l.94-2.06 2.06-.94-2.06-.94L8.5 2.5l-.94 2.06-2.06.94zm10 10l.94 2.06.94-2.06 2.06-.94-2.06-.94-.94-2.06-.94 2.06-2.06.94z\"/><path d=\"M17.41 7.96l-1.37-1.37c-.4-.4-.92-.59-1.43-.59-.52 0-1.04.2-1.43.59L10.3 9.45l-7.72 7.72c-.78.78-.78 2.05 0 2.83L4 21.41c.39.39.9.59 1.41.59.51 0 1.02-.2 1.41-.59l7.78-7.78 2.81-2.81c.8-.78.8-2.07 0-2.86zM5.41 20L4 18.59l7.72-7.72 1.47 1.35L5.41 20z\"/>\n",
              "  </svg>\n",
              "      </button>\n",
              "      \n",
              "  <style>\n",
              "    .colab-df-container {\n",
              "      display:flex;\n",
              "      flex-wrap:wrap;\n",
              "      gap: 12px;\n",
              "    }\n",
              "\n",
              "    .colab-df-convert {\n",
              "      background-color: #E8F0FE;\n",
              "      border: none;\n",
              "      border-radius: 50%;\n",
              "      cursor: pointer;\n",
              "      display: none;\n",
              "      fill: #1967D2;\n",
              "      height: 32px;\n",
              "      padding: 0 0 0 0;\n",
              "      width: 32px;\n",
              "    }\n",
              "\n",
              "    .colab-df-convert:hover {\n",
              "      background-color: #E2EBFA;\n",
              "      box-shadow: 0px 1px 2px rgba(60, 64, 67, 0.3), 0px 1px 3px 1px rgba(60, 64, 67, 0.15);\n",
              "      fill: #174EA6;\n",
              "    }\n",
              "\n",
              "    [theme=dark] .colab-df-convert {\n",
              "      background-color: #3B4455;\n",
              "      fill: #D2E3FC;\n",
              "    }\n",
              "\n",
              "    [theme=dark] .colab-df-convert:hover {\n",
              "      background-color: #434B5C;\n",
              "      box-shadow: 0px 1px 3px 1px rgba(0, 0, 0, 0.15);\n",
              "      filter: drop-shadow(0px 1px 2px rgba(0, 0, 0, 0.3));\n",
              "      fill: #FFFFFF;\n",
              "    }\n",
              "  </style>\n",
              "\n",
              "      <script>\n",
              "        const buttonEl =\n",
              "          document.querySelector('#df-f3c127db-3221-4f10-ae04-ed749a555355 button.colab-df-convert');\n",
              "        buttonEl.style.display =\n",
              "          google.colab.kernel.accessAllowed ? 'block' : 'none';\n",
              "\n",
              "        async function convertToInteractive(key) {\n",
              "          const element = document.querySelector('#df-f3c127db-3221-4f10-ae04-ed749a555355');\n",
              "          const dataTable =\n",
              "            await google.colab.kernel.invokeFunction('convertToInteractive',\n",
              "                                                     [key], {});\n",
              "          if (!dataTable) return;\n",
              "\n",
              "          const docLinkHtml = 'Like what you see? Visit the ' +\n",
              "            '<a target=\"_blank\" href=https://colab.research.google.com/notebooks/data_table.ipynb>data table notebook</a>'\n",
              "            + ' to learn more about interactive tables.';\n",
              "          element.innerHTML = '';\n",
              "          dataTable['output_type'] = 'display_data';\n",
              "          await google.colab.output.renderOutput(dataTable, element);\n",
              "          const docLink = document.createElement('div');\n",
              "          docLink.innerHTML = docLinkHtml;\n",
              "          element.appendChild(docLink);\n",
              "        }\n",
              "      </script>\n",
              "    </div>\n",
              "  </div>\n",
              "  "
            ]
          },
          "metadata": {},
          "execution_count": 22
        }
      ]
    },
    {
      "cell_type": "markdown",
      "source": [
        "9. Seleccionamos los atributos independientes con los que vamos a trabajar"
      ],
      "metadata": {
        "id": "OVui_X-nTY2x"
      }
    },
    {
      "cell_type": "code",
      "source": [
        "columns=[\"SITIO\",\"ORGANISMO_DE_CUENCA\",\"ESTADO\",\"MUNICIPIO\",\"ACUIFERO\",\"SUBTIPO\",\"LONGITUD\",\"LATITUD\",\"CUMPLE_CON_ALC\"\t,\n",
        "         \"CUMPLE_CON_COND\",\t\"CUMPLE_CON_SDT_ra\"\t,\"CUMPLE_CON_SDT_salin\",\"CUMPLE_CON_FLUO\",\"CUMPLE_CON_DUR\",\"CUMPLE_CON_CF\",\"CUMPLE_CON_NO3\",\t\n",
        "         \"CUMPLE_CON_AS\"\t,\"CUMPLE_CON_CD\",\"CUMPLE_CON_CR\",\t\"CUMPLE_CON_HG\",\"CUMPLE_CON_PB\",\"CUMPLE_CON_MN\",\"CUMPLE_CON_FE\",\"ALC\",\"AS\",\"CD\",\"CF\",\n",
        "         \"CONDUC\",\t\"CR\"\t,\"DT\",\"FE\",\"FLUO\",\"HG\",\"MN\",\"NI\",\"NO3\",\"PB\",\"SDT_ra\",\"SDT_salin\",\"SEMAFORO\"]"
      ],
      "metadata": {
        "id": "Xd_HAB2kviG4"
      },
      "execution_count": null,
      "outputs": []
    },
    {
      "cell_type": "markdown",
      "source": [
        "10. Creamos nuestro nuevo dataframe con las columnas deseadas"
      ],
      "metadata": {
        "id": "lepuxclqVpZe"
      }
    },
    {
      "cell_type": "code",
      "source": [
        "df_h2o_s=df_h2o_s[columns]"
      ],
      "metadata": {
        "id": "hHF5qoK_vjMY"
      },
      "execution_count": null,
      "outputs": []
    },
    {
      "cell_type": "markdown",
      "source": [
        "**Selecciona tus variables independientes X y dependiente Y (semáforo)**"
      ],
      "metadata": {
        "id": "rh7gHckU4T-W"
      }
    },
    {
      "cell_type": "markdown",
      "source": [
        "1. Seleccionamos unas variable predictoras y objetivos"
      ],
      "metadata": {
        "id": "21VX74ybWajp"
      }
    },
    {
      "cell_type": "code",
      "execution_count": null,
      "metadata": {
        "id": "TcyfCIr39CLp"
      },
      "outputs": [],
      "source": [
        "X=df_h2o_s.iloc[:,:-1:] #variables predictoras\n",
        "y=df_h2o_s.iloc[:,-1] #variable objetivo"
      ]
    },
    {
      "cell_type": "markdown",
      "source": [
        "2. Creamos nuestro pipeline, usaremos en este caso variables categóricas y binarias, dado que son los 2 tipos de variables presentes en el dataset a utilizar para generar el modelo."
      ],
      "metadata": {
        "id": "ycZLP3EYWzyu"
      }
    },
    {
      "cell_type": "code",
      "source": [
        "from sklearn.pipeline import Pipeline\n",
        "from sklearn.compose import ColumnTransformer\n",
        "from sklearn.preprocessing import MinMaxScaler, OneHotEncoder, StandardScaler\n",
        "\n",
        "#Usaremos onehotencoder para transformar las variables categóricas y las columnas que son binarias, pero quedaron expresadas con si y no.\n",
        "\n",
        "categorical_features =[\"SITIO\",\"ORGANISMO_DE_CUENCA\"\t,\"ESTADO\",\t\"MUNICIPIO\",\"ACUIFERO\",\t\"SUBTIPO\"]\n",
        "categorical_pipeline=Pipeline(\n",
        "    steps=[(\"OHEcat\",OneHotEncoder(handle_unknown=\"ignore\"))]\n",
        ")\n",
        "\n",
        "binary_features=[\"CUMPLE_CON_ALC\"\t,\n",
        "         \"CUMPLE_CON_COND\",\t\"CUMPLE_CON_SDT_ra\"\t,\"CUMPLE_CON_SDT_salin\",\"CUMPLE_CON_FLUO\",\"CUMPLE_CON_DUR\",\"CUMPLE_CON_CF\",\"CUMPLE_CON_NO3\",\t\n",
        "         \"CUMPLE_CON_AS\"\t,\"CUMPLE_CON_CD\",\"CUMPLE_CON_CR\",\t\"CUMPLE_CON_HG\",\"CUMPLE_CON_PB\",\"CUMPLE_CON_MN\",\"CUMPLE_CON_FE\"]\n",
        "binary_pipeline=Pipeline(\n",
        "    steps=[(\"OHEbi\", OneHotEncoder(handle_unknown=\"ignore\"))]\n",
        ")       \n",
        "\n",
        "columnasTransformer = ColumnTransformer(transformers = [('catpipe', categorical_pipeline, categorical_features),\n",
        "                                                        ('binpipe', binary_pipeline, binary_features)])"
      ],
      "metadata": {
        "id": "F_wZghAkwIvI"
      },
      "execution_count": null,
      "outputs": []
    },
    {
      "cell_type": "markdown",
      "source": [
        "**Cambia a label encoding el semáforo, ej, de [\"clase 1\", \"clase 2\", \"clase 3\"] a [ 1,2,3]**"
      ],
      "metadata": {
        "id": "4LXE_LkB7oB8"
      }
    },
    {
      "cell_type": "code",
      "source": [
        "from sklearn.preprocessing import LabelEncoder\n",
        "\n",
        "le= LabelEncoder() #creamos el labelencoder\n",
        "le.fit(y) #entrenamos nuestra salida\n",
        "y_label=le.transform(y) #transformamos la salida"
      ],
      "metadata": {
        "id": "xQwtzCUg7wSR"
      },
      "execution_count": null,
      "outputs": []
    },
    {
      "cell_type": "markdown",
      "source": [
        "**Realiza un análisis general de las features importances a traves de decision trees o random forest.**"
      ],
      "metadata": {
        "id": "A0_OP3fqyRr2"
      }
    },
    {
      "cell_type": "markdown",
      "source": [
        "1. Para efectos de nuestro equipo seleccionamos el Decision Tree"
      ],
      "metadata": {
        "id": "J0bjaZ5hXExQ"
      }
    },
    {
      "cell_type": "code",
      "source": [
        "#importamos el módulo tree que cuenta con el decision tree classifier\n",
        "from sklearn import tree\n",
        "decision_tree=tree.DecisionTreeClassifier()\n",
        "pipeline = Pipeline(steps=[('ct',columnasTransformer),('dt',decision_tree)])\n",
        "pipeline.fit(X,y_label)"
      ],
      "metadata": {
        "colab": {
          "base_uri": "https://localhost:8080/"
        },
        "id": "Axf-_V6FyYMi",
        "outputId": "93a6b033-b1c5-4762-f962-e8ab87a78117"
      },
      "execution_count": null,
      "outputs": [
        {
          "output_type": "execute_result",
          "data": {
            "text/plain": [
              "Pipeline(steps=[('ct',\n",
              "                 ColumnTransformer(transformers=[('catpipe',\n",
              "                                                  Pipeline(steps=[('OHEcat',\n",
              "                                                                   OneHotEncoder(handle_unknown='ignore'))]),\n",
              "                                                  ['SITIO',\n",
              "                                                   'ORGANISMO_DE_CUENCA',\n",
              "                                                   'ESTADO', 'MUNICIPIO',\n",
              "                                                   'ACUIFERO', 'SUBTIPO']),\n",
              "                                                 ('binpipe',\n",
              "                                                  Pipeline(steps=[('OHEbi',\n",
              "                                                                   OneHotEncoder(handle_unknown='ignore'))]),\n",
              "                                                  ['CUMPLE_CON_ALC',\n",
              "                                                   'CUMPLE_CON_COND',\n",
              "                                                   'CUMPLE_CON_SDT_ra',\n",
              "                                                   'CUMPLE_CON_SDT_salin',\n",
              "                                                   'CUMPLE_CON_FLUO',\n",
              "                                                   'CUMPLE_CON_DUR',\n",
              "                                                   'CUMPLE_CON_CF',\n",
              "                                                   'CUMPLE_CON_NO3',\n",
              "                                                   'CUMPLE_CON_AS',\n",
              "                                                   'CUMPLE_CON_CD',\n",
              "                                                   'CUMPLE_CON_CR',\n",
              "                                                   'CUMPLE_CON_HG',\n",
              "                                                   'CUMPLE_CON_PB',\n",
              "                                                   'CUMPLE_CON_MN',\n",
              "                                                   'CUMPLE_CON_FE'])])),\n",
              "                ('dt', DecisionTreeClassifier())])"
            ]
          },
          "metadata": {},
          "execution_count": 28
        }
      ]
    },
    {
      "cell_type": "code",
      "source": [
        "#Importamos el módulo para obtener las features más importantes, por medio de permutation importance\n",
        "\n",
        "from sklearn.inspection import permutation_importance\n",
        "import numpy as np\n",
        "import matplotlib.pyplot as plt\n",
        "from matplotlib.pyplot import figure\n",
        "\n",
        "#Usamos la función permutation importance\n",
        "importance = permutation_importance(pipeline, X, y_label, n_repeats=10,random_state=1)\n",
        "\n",
        "figure(figsize = (30, 20), dpi = 40)\n",
        "\n",
        "#Le pasamos el promedio de la importancia de la feature, seguido del nombre de la feature\n",
        "for v,n in zip(importance['importances_mean'], list(X.columns)):\n",
        "\tprint('Feature: {0:20}, Score: {1:.5f}'.format(n,v))\n",
        "\n",
        "#Graficamos el resultado\n",
        "plt.title(\"Features importances\")\n",
        "plt.barh(X.columns.to_numpy(),importance[\"importances_mean\"])\n",
        "plt.show()"
      ],
      "metadata": {
        "colab": {
          "base_uri": "https://localhost:8080/",
          "height": 1000
        },
        "id": "w_MfambKyfYE",
        "outputId": "ed2e6b7b-5626-4901-dacc-8c8237e99827"
      },
      "execution_count": null,
      "outputs": [
        {
          "output_type": "stream",
          "name": "stdout",
          "text": [
            "Feature: SITIO               , Score: 0.00094\n",
            "Feature: ORGANISMO_DE_CUENCA , Score: 0.00122\n",
            "Feature: ESTADO              , Score: 0.00000\n",
            "Feature: MUNICIPIO           , Score: 0.00000\n",
            "Feature: ACUIFERO            , Score: 0.00253\n",
            "Feature: SUBTIPO             , Score: 0.00000\n",
            "Feature: LONGITUD            , Score: 0.00000\n",
            "Feature: LATITUD             , Score: 0.00000\n",
            "Feature: CUMPLE_CON_ALC      , Score: 0.02903\n",
            "Feature: CUMPLE_CON_COND     , Score: 0.05974\n",
            "Feature: CUMPLE_CON_SDT_ra   , Score: 0.00000\n",
            "Feature: CUMPLE_CON_SDT_salin, Score: 0.00000\n",
            "Feature: CUMPLE_CON_FLUO     , Score: 0.20103\n",
            "Feature: CUMPLE_CON_DUR      , Score: 0.14288\n",
            "Feature: CUMPLE_CON_CF       , Score: 0.08155\n",
            "Feature: CUMPLE_CON_NO3      , Score: 0.10459\n",
            "Feature: CUMPLE_CON_AS       , Score: 0.11910\n",
            "Feature: CUMPLE_CON_CD       , Score: 0.00103\n",
            "Feature: CUMPLE_CON_CR       , Score: 0.01957\n",
            "Feature: CUMPLE_CON_HG       , Score: 0.00000\n",
            "Feature: CUMPLE_CON_PB       , Score: 0.01170\n",
            "Feature: CUMPLE_CON_MN       , Score: 0.05290\n",
            "Feature: CUMPLE_CON_FE       , Score: 0.07725\n",
            "Feature: ALC                 , Score: 0.00000\n",
            "Feature: AS                  , Score: 0.00000\n",
            "Feature: CD                  , Score: 0.00000\n",
            "Feature: CF                  , Score: 0.00000\n",
            "Feature: CONDUC              , Score: 0.00000\n",
            "Feature: CR                  , Score: 0.00000\n",
            "Feature: DT                  , Score: 0.00000\n",
            "Feature: FE                  , Score: 0.00000\n",
            "Feature: FLUO                , Score: 0.00000\n",
            "Feature: HG                  , Score: 0.00000\n",
            "Feature: MN                  , Score: 0.00000\n",
            "Feature: NI                  , Score: 0.00000\n",
            "Feature: NO3                 , Score: 0.00000\n",
            "Feature: PB                  , Score: 0.00000\n",
            "Feature: SDT_ra              , Score: 0.00000\n",
            "Feature: SDT_salin           , Score: 0.00000\n"
          ]
        },
        {
          "output_type": "display_data",
          "data": {
            "text/plain": [
              "<Figure size 1200x800 with 1 Axes>"
            ],
            "image/png": "[encoded data removed]"
          },
          "metadata": {
            "needs_background": "light"
          }
        }
      ]
    },
    {
      "cell_type": "markdown",
      "source": [
        "**Selecciona las variables de mayor importancia.**"
      ],
      "metadata": {
        "id": "PllMcjSDzH76"
      }
    },
    {
      "cell_type": "markdown",
      "source": [
        "1. Tal como se puede observar, las columnas que hablan de si el agua cumple o no con algún indicador, serán las más importantes al momento de generar nuestro modelo, es por eso que serán nuestras variables de mayor importancia."
      ],
      "metadata": {
        "id": "P-iyvtusXfBF"
      }
    },
    {
      "cell_type": "code",
      "source": [
        "most_important=[\"CUMPLE_CON_FE\",\"CUMPLE_CON_MN\",\"CUMPLE_CON_PB\",\"CUMPLE_CON_CR\",\"CUMPLE_CON_AS\",\"CUMPLE_CON_NO3\",\n",
        "                \"CUMPLE_CON_CF\",\"CUMPLE_CON_DUR\",\"CUMPLE_CON_FLUO\",\"CUMPLE_CON_COND\",\"CUMPLE_CON_ALC\"]\n",
        "df_h2o_s=df_h2o_s[most_important]"
      ],
      "metadata": {
        "id": "ES-p1bhJzGkD"
      },
      "execution_count": null,
      "outputs": []
    },
    {
      "cell_type": "markdown",
      "source": [
        "2. Creamos otro pipeline con las variables más importantes"
      ],
      "metadata": {
        "id": "gN-y3VP8Xv95"
      }
    },
    {
      "cell_type": "code",
      "source": [
        "binary_features=[\"CUMPLE_CON_FE\",\"CUMPLE_CON_MN\",\"CUMPLE_CON_PB\",\"CUMPLE_CON_CR\",\"CUMPLE_CON_AS\",\"CUMPLE_CON_NO3\",\n",
        "                \"CUMPLE_CON_CF\",\"CUMPLE_CON_DUR\",\"CUMPLE_CON_FLUO\",\"CUMPLE_CON_COND\",\"CUMPLE_CON_ALC\"]\n",
        "bin_pipe=Pipeline(\n",
        "    steps=[(\"OHEbi\", OneHotEncoder(handle_unknown=\"ignore\"))]\n",
        ")  \n",
        "\n",
        "important_features = ColumnTransformer(transformers = [('binpipe', bin_pipe, binary_features)])"
      ],
      "metadata": {
        "id": "0Tw1bPmUzuUy"
      },
      "execution_count": null,
      "outputs": []
    },
    {
      "cell_type": "markdown",
      "source": [
        "3. Asignamos a X las columnas más importantes, sacadas con feature importance, la y ya la tenemos en la parte de arriba, guardada dentro de la variable y_label."
      ],
      "metadata": {
        "id": "8S8N4rWFck28"
      }
    },
    {
      "cell_type": "code",
      "source": [
        "X=df_h2o_s"
      ],
      "metadata": {
        "id": "9OTXN5JIzxGT"
      },
      "execution_count": null,
      "outputs": []
    },
    {
      "cell_type": "code",
      "source": [
        "X.head()"
      ],
      "metadata": {
        "colab": {
          "base_uri": "https://localhost:8080/",
          "height": 270
        },
        "id": "TCSutV-H9kr5",
        "outputId": "f59814bb-bf3c-47be-e07d-23458211f9a8"
      },
      "execution_count": null,
      "outputs": [
        {
          "output_type": "execute_result",
          "data": {
            "text/plain": [
              "  CUMPLE_CON_FE CUMPLE_CON_MN CUMPLE_CON_PB CUMPLE_CON_CR CUMPLE_CON_AS  \\\n",
              "0            SI            SI            SI            SI            SI   \n",
              "1            SI            SI            SI            SI            SI   \n",
              "2            SI            SI            SI            SI            NO   \n",
              "3            SI            SI            SI            SI            SI   \n",
              "4            SI            SI            SI            SI            SI   \n",
              "\n",
              "  CUMPLE_CON_NO3 CUMPLE_CON_CF CUMPLE_CON_DUR CUMPLE_CON_FLUO CUMPLE_CON_COND  \\\n",
              "0             SI            SI             SI              SI              SI   \n",
              "1             SI            SI             SI              SI              SI   \n",
              "2             SI            SI             SI              NO              SI   \n",
              "3             SI            SI             SI              SI              SI   \n",
              "4             NO            SI             SI              SI              SI   \n",
              "\n",
              "  CUMPLE_CON_ALC  \n",
              "0             SI  \n",
              "1             SI  \n",
              "2             SI  \n",
              "3             SI  \n",
              "4             SI  "
            ],
            "text/html": [
              "\n",
              "  <div id=\"df-6e664e40-566d-4300-bb56-c8559121a50e\">\n",
              "    <div class=\"colab-df-container\">\n",
              "      <div>\n",
              "<style scoped>\n",
              "    .dataframe tbody tr th:only-of-type {\n",
              "        vertical-align: middle;\n",
              "    }\n",
              "\n",
              "    .dataframe tbody tr th {\n",
              "        vertical-align: top;\n",
              "    }\n",
              "\n",
              "    .dataframe thead th {\n",
              "        text-align: right;\n",
              "    }\n",
              "</style>\n",
              "<table border=\"1\" class=\"dataframe\">\n",
              "  <thead>\n",
              "    <tr style=\"text-align: right;\">\n",
              "      <th></th>\n",
              "      <th>CUMPLE_CON_FE</th>\n",
              "      <th>CUMPLE_CON_MN</th>\n",
              "      <th>CUMPLE_CON_PB</th>\n",
              "      <th>CUMPLE_CON_CR</th>\n",
              "      <th>CUMPLE_CON_AS</th>\n",
              "      <th>CUMPLE_CON_NO3</th>\n",
              "      <th>CUMPLE_CON_CF</th>\n",
              "      <th>CUMPLE_CON_DUR</th>\n",
              "      <th>CUMPLE_CON_FLUO</th>\n",
              "      <th>CUMPLE_CON_COND</th>\n",
              "      <th>CUMPLE_CON_ALC</th>\n",
              "    </tr>\n",
              "  </thead>\n",
              "  <tbody>\n",
              "    <tr>\n",
              "      <th>0</th>\n",
              "      <td>SI</td>\n",
              "      <td>SI</td>\n",
              "      <td>SI</td>\n",
              "      <td>SI</td>\n",
              "      <td>SI</td>\n",
              "      <td>SI</td>\n",
              "      <td>SI</td>\n",
              "      <td>SI</td>\n",
              "      <td>SI</td>\n",
              "      <td>SI</td>\n",
              "      <td>SI</td>\n",
              "    </tr>\n",
              "    <tr>\n",
              "      <th>1</th>\n",
              "      <td>SI</td>\n",
              "      <td>SI</td>\n",
              "      <td>SI</td>\n",
              "      <td>SI</td>\n",
              "      <td>SI</td>\n",
              "      <td>SI</td>\n",
              "      <td>SI</td>\n",
              "      <td>SI</td>\n",
              "      <td>SI</td>\n",
              "      <td>SI</td>\n",
              "      <td>SI</td>\n",
              "    </tr>\n",
              "    <tr>\n",
              "      <th>2</th>\n",
              "      <td>SI</td>\n",
              "      <td>SI</td>\n",
              "      <td>SI</td>\n",
              "      <td>SI</td>\n",
              "      <td>NO</td>\n",
              "      <td>SI</td>\n",
              "      <td>SI</td>\n",
              "      <td>SI</td>\n",
              "      <td>NO</td>\n",
              "      <td>SI</td>\n",
              "      <td>SI</td>\n",
              "    </tr>\n",
              "    <tr>\n",
              "      <th>3</th>\n",
              "      <td>SI</td>\n",
              "      <td>SI</td>\n",
              "      <td>SI</td>\n",
              "      <td>SI</td>\n",
              "      <td>SI</td>\n",
              "      <td>SI</td>\n",
              "      <td>SI</td>\n",
              "      <td>SI</td>\n",
              "      <td>SI</td>\n",
              "      <td>SI</td>\n",
              "      <td>SI</td>\n",
              "    </tr>\n",
              "    <tr>\n",
              "      <th>4</th>\n",
              "      <td>SI</td>\n",
              "      <td>SI</td>\n",
              "      <td>SI</td>\n",
              "      <td>SI</td>\n",
              "      <td>SI</td>\n",
              "      <td>NO</td>\n",
              "      <td>SI</td>\n",
              "      <td>SI</td>\n",
              "      <td>SI</td>\n",
              "      <td>SI</td>\n",
              "      <td>SI</td>\n",
              "    </tr>\n",
              "  </tbody>\n",
              "</table>\n",
              "</div>\n",
              "      <button class=\"colab-df-convert\" onclick=\"convertToInteractive('df-6e664e40-566d-4300-bb56-c8559121a50e')\"\n",
              "              title=\"Convert this dataframe to an interactive table.\"\n",
              "              style=\"display:none;\">\n",
              "        \n",
              "  <svg xmlns=\"http://www.w3.org/2000/svg\" height=\"24px\"viewBox=\"0 0 24 24\"\n",
              "       width=\"24px\">\n",
              "    <path d=\"M0 0h24v24H0V0z\" fill=\"none\"/>\n",
              "    <path d=\"M18.56 5.44l.94 2.06.94-2.06 2.06-.94-2.06-.94-.94-2.06-.94 2.06-2.06.94zm-11 1L8.5 8.5l.94-2.06 2.06-.94-2.06-.94L8.5 2.5l-.94 2.06-2.06.94zm10 10l.94 2.06.94-2.06 2.06-.94-2.06-.94-.94-2.06-.94 2.06-2.06.94z\"/><path d=\"M17.41 7.96l-1.37-1.37c-.4-.4-.92-.59-1.43-.59-.52 0-1.04.2-1.43.59L10.3 9.45l-7.72 7.72c-.78.78-.78 2.05 0 2.83L4 21.41c.39.39.9.59 1.41.59.51 0 1.02-.2 1.41-.59l7.78-7.78 2.81-2.81c.8-.78.8-2.07 0-2.86zM5.41 20L4 18.59l7.72-7.72 1.47 1.35L5.41 20z\"/>\n",
              "  </svg>\n",
              "      </button>\n",
              "      \n",
              "  <style>\n",
              "    .colab-df-container {\n",
              "      display:flex;\n",
              "      flex-wrap:wrap;\n",
              "      gap: 12px;\n",
              "    }\n",
              "\n",
              "    .colab-df-convert {\n",
              "      background-color: #E8F0FE;\n",
              "      border: none;\n",
              "      border-radius: 50%;\n",
              "      cursor: pointer;\n",
              "      display: none;\n",
              "      fill: #1967D2;\n",
              "      height: 32px;\n",
              "      padding: 0 0 0 0;\n",
              "      width: 32px;\n",
              "    }\n",
              "\n",
              "    .colab-df-convert:hover {\n",
              "      background-color: #E2EBFA;\n",
              "      box-shadow: 0px 1px 2px rgba(60, 64, 67, 0.3), 0px 1px 3px 1px rgba(60, 64, 67, 0.15);\n",
              "      fill: #174EA6;\n",
              "    }\n",
              "\n",
              "    [theme=dark] .colab-df-convert {\n",
              "      background-color: #3B4455;\n",
              "      fill: #D2E3FC;\n",
              "    }\n",
              "\n",
              "    [theme=dark] .colab-df-convert:hover {\n",
              "      background-color: #434B5C;\n",
              "      box-shadow: 0px 1px 3px 1px rgba(0, 0, 0, 0.15);\n",
              "      filter: drop-shadow(0px 1px 2px rgba(0, 0, 0, 0.3));\n",
              "      fill: #FFFFFF;\n",
              "    }\n",
              "  </style>\n",
              "\n",
              "      <script>\n",
              "        const buttonEl =\n",
              "          document.querySelector('#df-6e664e40-566d-4300-bb56-c8559121a50e button.colab-df-convert');\n",
              "        buttonEl.style.display =\n",
              "          google.colab.kernel.accessAllowed ? 'block' : 'none';\n",
              "\n",
              "        async function convertToInteractive(key) {\n",
              "          const element = document.querySelector('#df-6e664e40-566d-4300-bb56-c8559121a50e');\n",
              "          const dataTable =\n",
              "            await google.colab.kernel.invokeFunction('convertToInteractive',\n",
              "                                                     [key], {});\n",
              "          if (!dataTable) return;\n",
              "\n",
              "          const docLinkHtml = 'Like what you see? Visit the ' +\n",
              "            '<a target=\"_blank\" href=https://colab.research.google.com/notebooks/data_table.ipynb>data table notebook</a>'\n",
              "            + ' to learn more about interactive tables.';\n",
              "          element.innerHTML = '';\n",
              "          dataTable['output_type'] = 'display_data';\n",
              "          await google.colab.output.renderOutput(dataTable, element);\n",
              "          const docLink = document.createElement('div');\n",
              "          docLink.innerHTML = docLinkHtml;\n",
              "          element.appendChild(docLink);\n",
              "        }\n",
              "      </script>\n",
              "    </div>\n",
              "  </div>\n",
              "  "
            ]
          },
          "metadata": {},
          "execution_count": 33
        }
      ]
    },
    {
      "cell_type": "markdown",
      "source": [
        "**Realiza tu clasificador, recuerda dividir los datos de manera balanceada (auxiliate de train test split)**"
      ],
      "metadata": {
        "id": "2g5sSh4i9oNe"
      }
    },
    {
      "cell_type": "markdown",
      "source": [
        "1. Usaremos el 30% de los datos para prueba y el resto para entrenamiento"
      ],
      "metadata": {
        "id": "wTeFyyLmdSRC"
      }
    },
    {
      "cell_type": "code",
      "source": [
        "from sklearn.model_selection import train_test_split\n",
        "\n",
        "X_train,X_test,y_train,y_test=train_test_split(X,y_label,test_size=0.3,random_state=1,stratify=y_label)"
      ],
      "metadata": {
        "id": "YUx-__iG9qMF"
      },
      "execution_count": null,
      "outputs": []
    },
    {
      "cell_type": "markdown",
      "source": [
        "**Creamos una función donde guardamos los modelos de Decision Tree y Random Forest**"
      ],
      "metadata": {
        "id": "G3-xfJIw9yxo"
      }
    },
    {
      "cell_type": "markdown",
      "source": [
        "1. Creamos una función donde guardamos los modelos de Decision Tree y Random Forest"
      ],
      "metadata": {
        "id": "UxXJiZxWdjpr"
      }
    },
    {
      "cell_type": "code",
      "source": [
        "from sklearn.linear_model import LogisticRegression\n",
        "from sklearn.tree import DecisionTreeClassifier\n",
        "from sklearn.ensemble import RandomForestClassifier\n",
        "\n",
        "def get_models(): #creamos una función donde guardamos el modelo\n",
        "  modelos = list()\n",
        "  nombres = list()\n",
        "\n",
        "  # RF - Bosque Aleatorio\n",
        "  modelos.append(RandomForestClassifier(random_state=0,max_depth=5))\n",
        "\n",
        "  #DT - Decision Tree\n",
        "  modelos.append(DecisionTreeClassifier(random_state=0,max_depth=5))\n",
        "\n",
        "  return modelos"
      ],
      "metadata": {
        "id": "fl2SrH6O91rx"
      },
      "execution_count": null,
      "outputs": []
    },
    {
      "cell_type": "markdown",
      "source": [
        "2. Guardamos dentro de la variable modelos, nuestros modelos creados con get_models()"
      ],
      "metadata": {
        "id": "261wcgMTf4Qp"
      }
    },
    {
      "cell_type": "code",
      "source": [
        "modelos=get_models()"
      ],
      "metadata": {
        "id": "zYX16xkf94PE"
      },
      "execution_count": null,
      "outputs": []
    },
    {
      "cell_type": "markdown",
      "source": [
        "3. Evaluamos nuestro modelo con Random Forest"
      ],
      "metadata": {
        "id": "3XWjnpAEf_Mc"
      }
    },
    {
      "cell_type": "code",
      "source": [
        "pipeline_rf = Pipeline(steps=[('ct',important_features),('m',modelos[0])])\n",
        "pipeline_rf.fit(X_train,y_train)\n",
        "yhat_rf=pipeline_rf.predict(X_test)"
      ],
      "metadata": {
        "id": "capjGzUp976b"
      },
      "execution_count": null,
      "outputs": []
    },
    {
      "cell_type": "markdown",
      "source": [
        "4. Obtenemos las métricas de accuracy, precision y recall del modelo"
      ],
      "metadata": {
        "id": "wJYspKQXgJLQ"
      }
    },
    {
      "cell_type": "code",
      "source": [
        "from sklearn.metrics import accuracy_score,precision_score, recall_score\n",
        "\n",
        "accuracy=accuracy_score(y_test,yhat_rf)\n",
        "precision=precision_score(y_test, yhat_rf, average='macro')\n",
        "recall=recall_score(y_test,yhat_rf,average=\"macro\")\n",
        "print(\"El accuracy es de:\",accuracy)\n",
        "print(\"La precision es de:\",precision)\n",
        "print(\"El recall es de:\",recall)"
      ],
      "metadata": {
        "colab": {
          "base_uri": "https://localhost:8080/"
        },
        "id": "ayhSYRV89-sr",
        "outputId": "60f6d8b9-d37c-4d41-fe1e-d6311f6cc38e"
      },
      "execution_count": null,
      "outputs": [
        {
          "output_type": "stream",
          "name": "stdout",
          "text": [
            "El accuracy es de: 0.9345794392523364\n",
            "La precision es de: 0.9295508274231677\n",
            "El recall es de: 0.925305734795074\n"
          ]
        }
      ]
    },
    {
      "cell_type": "markdown",
      "source": [
        "5. Evaluamos nuestro modelo con Decision Tree"
      ],
      "metadata": {
        "id": "p4WuN60QgTo0"
      }
    },
    {
      "cell_type": "code",
      "source": [
        "pipeline_dt = Pipeline(steps=[('ct',important_features),('m',modelos[1])])\n",
        "pipeline_dt.fit(X_train,y_train)\n",
        "yhat_dt=pipeline_dt.predict(X_test)"
      ],
      "metadata": {
        "id": "D0eKSxE_-BxI"
      },
      "execution_count": null,
      "outputs": []
    },
    {
      "cell_type": "markdown",
      "source": [
        "6. Obtenemos las métricas de accuracy, precision y recall del modelo"
      ],
      "metadata": {
        "id": "0THxqf8SgWco"
      }
    },
    {
      "cell_type": "code",
      "source": [
        "accuracy=accuracy_score(y_test,yhat_dt)\n",
        "precision=precision_score(y_test, yhat_dt, average='macro')\n",
        "recall=recall_score(y_test,yhat_dt,average=\"macro\")\n",
        "print(\"El accuracy es de:\",accuracy)\n",
        "print(\"La precision es de:\",precision)\n",
        "print(\"El recall es de:\",recall)"
      ],
      "metadata": {
        "colab": {
          "base_uri": "https://localhost:8080/"
        },
        "id": "4Git0K-x-Eji",
        "outputId": "c257549c-c7b2-4952-b039-a02f9b12bd97"
      },
      "execution_count": null,
      "outputs": [
        {
          "output_type": "stream",
          "name": "stdout",
          "text": [
            "El accuracy es de: 0.8660436137071651\n",
            "La precision es de: 0.8824217787632422\n",
            "El recall es de: 0.8470798384591488\n"
          ]
        }
      ]
    },
    {
      "cell_type": "markdown",
      "source": [
        "7. Visualizamos el Decision Tree"
      ],
      "metadata": {
        "id": "KU-J9sJkggdu"
      }
    },
    {
      "cell_type": "code",
      "source": [
        "figure(figsize = (20, 15), dpi = 80)\n",
        "\n",
        "tree.plot_tree(pipeline_dt.named_steps[\"m\"], filled = True)"
      ],
      "metadata": {
        "colab": {
          "base_uri": "https://localhost:8080/",
          "height": 1000
        },
        "id": "Nfaq09uK-ILA",
        "outputId": "6315d9d5-a2d2-44fa-dc47-7cfebc9d73a4"
      },
      "execution_count": null,
      "outputs": [
        {
          "output_type": "execute_result",
          "data": {
            "text/plain": [
              "[Text(0.6071428571428571, 0.9166666666666666, 'X[17] <= 0.5\\ngini = 0.65\\nsamples = 747\\nvalue = [173, 271, 303]'),\n",
              " Text(0.5357142857142857, 0.75, 'X[15] <= 0.5\\ngini = 0.626\\nsamples = 613\\nvalue = [173, 137, 303]'),\n",
              " Text(0.35714285714285715, 0.5833333333333334, 'X[0] <= 0.5\\ngini = 0.514\\nsamples = 466\\nvalue = [65, 98, 303]'),\n",
              " Text(0.21428571428571427, 0.4166666666666667, 'X[8] <= 0.5\\ngini = 0.42\\nsamples = 413\\nvalue = [31, 79, 303]'),\n",
              " Text(0.14285714285714285, 0.25, 'X[11] <= 0.5\\ngini = 0.359\\nsamples = 386\\nvalue = [31, 52, 303]'),\n",
              " Text(0.07142857142857142, 0.08333333333333333, 'gini = 0.286\\nsamples = 362\\nvalue = [31, 28, 303]'),\n",
              " Text(0.21428571428571427, 0.08333333333333333, 'gini = 0.0\\nsamples = 24\\nvalue = [0, 24, 0]'),\n",
              " Text(0.2857142857142857, 0.25, 'gini = 0.0\\nsamples = 27\\nvalue = [0, 27, 0]'),\n",
              " Text(0.5, 0.4166666666666667, 'X[8] <= 0.5\\ngini = 0.46\\nsamples = 53\\nvalue = [34, 19, 0]'),\n",
              " Text(0.42857142857142855, 0.25, 'X[6] <= 0.5\\ngini = 0.386\\nsamples = 46\\nvalue = [34, 12, 0]'),\n",
              " Text(0.35714285714285715, 0.08333333333333333, 'gini = 0.308\\nsamples = 42\\nvalue = [34, 8, 0]'),\n",
              " Text(0.5, 0.08333333333333333, 'gini = 0.0\\nsamples = 4\\nvalue = [0, 4, 0]'),\n",
              " Text(0.5714285714285714, 0.25, 'gini = 0.0\\nsamples = 7\\nvalue = [0, 7, 0]'),\n",
              " Text(0.7142857142857143, 0.5833333333333334, 'X[12] <= 0.5\\ngini = 0.39\\nsamples = 147\\nvalue = [108, 39, 0]'),\n",
              " Text(0.6428571428571429, 0.4166666666666667, 'gini = 0.0\\nsamples = 24\\nvalue = [0, 24, 0]'),\n",
              " Text(0.7857142857142857, 0.4166666666666667, 'X[14] <= 0.5\\ngini = 0.214\\nsamples = 123\\nvalue = [108, 15, 0]'),\n",
              " Text(0.7142857142857143, 0.25, 'gini = 0.0\\nsamples = 8\\nvalue = [0, 8, 0]'),\n",
              " Text(0.8571428571428571, 0.25, 'X[8] <= 0.5\\ngini = 0.114\\nsamples = 115\\nvalue = [108, 7, 0]'),\n",
              " Text(0.7857142857142857, 0.08333333333333333, 'gini = 0.036\\nsamples = 110\\nvalue = [108, 2, 0]'),\n",
              " Text(0.9285714285714286, 0.08333333333333333, 'gini = 0.0\\nsamples = 5\\nvalue = [0, 5, 0]'),\n",
              " Text(0.6785714285714286, 0.75, 'gini = 0.0\\nsamples = 134\\nvalue = [0, 134, 0]')]"
            ]
          },
          "metadata": {},
          "execution_count": 41
        },
        {
          "output_type": "display_data",
          "data": {
            "text/plain": [
              "<Figure size 1600x1200 with 1 Axes>"
            ],
            "image/png": "[encoded data removed]"
          },
          "metadata": {
            "needs_background": "light"
          }
        }
      ]
    },
    {
      "cell_type": "markdown",
      "source": [
        "**Determina el grado de exactitud a través del reporte de clasificación y análisis de la gráfica de Precision Recall.**"
      ],
      "metadata": {
        "id": "APvxkFEA-Uqo"
      }
    },
    {
      "cell_type": "markdown",
      "source": [
        "1. Primero generamos el reporte de clasificación del Decision Tree para ello utilizamos el módulo classification report de Scikit-learn."
      ],
      "metadata": {
        "id": "8rlHuNK2g4cx"
      }
    },
    {
      "cell_type": "code",
      "source": [
        "from sklearn.metrics import classification_report\n",
        "target_names = ['class 0', 'class 1', 'class 2']\n",
        "print(classification_report(y_test, yhat_dt, target_names=target_names))"
      ],
      "metadata": {
        "colab": {
          "base_uri": "https://localhost:8080/"
        },
        "id": "dFjIC0RD-SfT",
        "outputId": "1ae3c6d9-11d4-4d32-cf82-ae045ae85077"
      },
      "execution_count": null,
      "outputs": [
        {
          "output_type": "stream",
          "name": "stdout",
          "text": [
            "              precision    recall  f1-score   support\n",
            "\n",
            "     class 0       0.85      0.76      0.80        74\n",
            "     class 1       1.00      0.78      0.88       116\n",
            "     class 2       0.80      1.00      0.89       131\n",
            "\n",
            "    accuracy                           0.87       321\n",
            "   macro avg       0.88      0.85      0.86       321\n",
            "weighted avg       0.88      0.87      0.86       321\n",
            "\n"
          ]
        }
      ]
    },
    {
      "cell_type": "markdown",
      "source": [
        "2. El resultado del accuracy en este modelo es de 0.86\n",
        "\n",
        "Ahora hacemos el reporte de clasificación del Random Forest\n",
        "\n"
      ],
      "metadata": {
        "id": "3Yf75KcMhTsk"
      }
    },
    {
      "cell_type": "code",
      "source": [
        "target_names = ['class 0', 'class 1', 'class 2']\n",
        "print(classification_report(y_test, yhat_rf, target_names=target_names))"
      ],
      "metadata": {
        "colab": {
          "base_uri": "https://localhost:8080/"
        },
        "id": "HA9E61XK-cfq",
        "outputId": "74542fa9-64ab-444d-a917-566e3ea351ef"
      },
      "execution_count": null,
      "outputs": [
        {
          "output_type": "stream",
          "name": "stdout",
          "text": [
            "              precision    recall  f1-score   support\n",
            "\n",
            "     class 0       0.87      0.88      0.87        74\n",
            "     class 1       1.00      0.91      0.95       116\n",
            "     class 2       0.92      0.99      0.96       131\n",
            "\n",
            "    accuracy                           0.93       321\n",
            "   macro avg       0.93      0.93      0.93       321\n",
            "weighted avg       0.94      0.93      0.93       321\n",
            "\n"
          ]
        }
      ]
    },
    {
      "cell_type": "markdown",
      "source": [
        "3. El score de accuracy es de 0.93, para el modelo de Random Forest, lo que indica un mejor performance en comparación al modelo del Decision Tree.\n",
        "\n",
        "Graficamos la Curva Precision-Recall del Decision Tree"
      ],
      "metadata": {
        "id": "ZaEq0js3hhen"
      }
    },
    {
      "cell_type": "code",
      "source": [
        "from yellowbrick.classifier import PrecisionRecallCurve\n",
        "prcurve = PrecisionRecallCurve(\n",
        "    pipeline_dt,\n",
        "    per_class=True,\n",
        "    cmap=\"Set1\"\n",
        ")\n",
        "prcurve.fit(X_train, y_train)\n",
        "prcurve.score(X_test, y_test)\n",
        "prcurve.show()"
      ],
      "metadata": {
        "colab": {
          "base_uri": "https://localhost:8080/",
          "height": 393
        },
        "id": "BiR1skHE-hFt",
        "outputId": "fe451d88-01ab-4c03-f929-f10ff9b49c59"
      },
      "execution_count": null,
      "outputs": [
        {
          "output_type": "display_data",
          "data": {
            "text/plain": [
              "<Figure size 576x396 with 1 Axes>"
            ],
            "image/png": "[encoded data removed]"
          },
          "metadata": {}
        },
        {
          "output_type": "execute_result",
          "data": {
            "text/plain": [
              "<matplotlib.axes._subplots.AxesSubplot at 0x7f328cce1fd0>"
            ]
          },
          "metadata": {},
          "execution_count": 44
        }
      ]
    },
    {
      "cell_type": "markdown",
      "source": [
        "4. Obtenemos que el promedio de la precision es de 0.93 para el modelo de Decision Tree\n",
        "\n",
        "Ahora sacamos la Curva Precision-Recall del modelo con Random Forest"
      ],
      "metadata": {
        "id": "T8YmKKtIhuQS"
      }
    },
    {
      "cell_type": "code",
      "source": [
        "prcurve = PrecisionRecallCurve(\n",
        "    pipeline_rf,\n",
        "    per_class=True,\n",
        "    cmap=\"Set1\"\n",
        ")\n",
        "prcurve.fit(X_train, y_train)\n",
        "prcurve.score(X_test, y_test)\n",
        "prcurve.show()"
      ],
      "metadata": {
        "colab": {
          "base_uri": "https://localhost:8080/",
          "height": 393
        },
        "id": "5qS8UXOE-lu3",
        "outputId": "d3ad3ab6-dec7-48db-f668-223e16d04372"
      },
      "execution_count": null,
      "outputs": [
        {
          "output_type": "display_data",
          "data": {
            "text/plain": [
              "<Figure size 576x396 with 1 Axes>"
            ],
            "image/png": "[encoded data removed]"
          },
          "metadata": {}
        },
        {
          "output_type": "execute_result",
          "data": {
            "text/plain": [
              "<matplotlib.axes._subplots.AxesSubplot at 0x7fba891c6ed0>"
            ]
          },
          "metadata": {},
          "execution_count": 123
        }
      ]
    },
    {
      "cell_type": "markdown",
      "source": [
        "5. El promedio de la métrica precision es de 0.98 para el modelo con Decision Tree"
      ],
      "metadata": {
        "id": "Um2YH2AyiHeW"
      }
    },
    {
      "cell_type": "markdown",
      "source": [
        "**Visualiza los resultados del modelo o las predicciones a través de una matriz de confusión.**"
      ],
      "metadata": {
        "id": "GKURxEiN-pFG"
      }
    },
    {
      "cell_type": "code",
      "source": [
        "from sklearn.metrics import confusion_matrix\n",
        "import seaborn as sns \n",
        "\n",
        "def mi_cm(yreal, ypred,title):\n",
        "  cm=confusion_matrix(yreal, ypred)\n",
        "\n",
        "  plt.figure(figsize=(6,4))\n",
        "  plt.title(\"Matriz de Confusión \"+title)\n",
        "  ax = sns.heatmap(cm, annot=True, fmt='', cmap=\"viridis\", cbar=True)\n",
        "  ax.set(ylabel=\"Etiquetas Reales\", xlabel=\"Etiquetas de Predicción\")\n",
        "  plt.show()"
      ],
      "metadata": {
        "id": "M8-UP5HE-tFF"
      },
      "execution_count": null,
      "outputs": []
    },
    {
      "cell_type": "markdown",
      "source": [
        "1. Ahora usamos esa función para obtener la matriz de confusión para Decision Tree"
      ],
      "metadata": {
        "id": "g830NJbeiUxR"
      }
    },
    {
      "cell_type": "code",
      "source": [
        "mi_cm(y_test,yhat_dt,\"Decision Tree\")"
      ],
      "metadata": {
        "colab": {
          "base_uri": "https://localhost:8080/",
          "height": 294
        },
        "id": "-LV7gF5U-0U_",
        "outputId": "7b78473a-8d7a-4bed-f7a3-80d643565b97"
      },
      "execution_count": null,
      "outputs": [
        {
          "output_type": "display_data",
          "data": {
            "text/plain": [
              "<Figure size 432x288 with 2 Axes>"
            ],
            "image/png": "[encoded data removed]"
          },
          "metadata": {}
        }
      ]
    },
    {
      "cell_type": "markdown",
      "source": [
        "2. Hacemos uso de la misma función para obtener la matriz de confusión para Random Forest"
      ],
      "metadata": {
        "id": "C6dHvyisibjp"
      }
    },
    {
      "cell_type": "code",
      "source": [
        "mi_cm(y_test,yhat_rf,\"Random Forest\")"
      ],
      "metadata": {
        "colab": {
          "base_uri": "https://localhost:8080/",
          "height": 294
        },
        "id": "r3mZ_uER-4sC",
        "outputId": "639da505-e73e-438a-8d5a-2e8f544d9eb3"
      },
      "execution_count": null,
      "outputs": [
        {
          "output_type": "display_data",
          "data": {
            "text/plain": [
              "<Figure size 432x288 with 2 Axes>"
            ],
            "image/png": "[encoded data removed]"
          },
          "metadata": {}
        }
      ]
    },
    {
      "cell_type": "markdown",
      "source": [
        "# **Conclusiones**\n",
        "\n",
        "Al realizar este ejercicio podemos concluir lo siguiente:\n",
        "\n",
        "*\tLo importante que es realizar el análisis de los datos antes de empezar a decir que modelo vamos a implementar.\n",
        "\n",
        "* La relevancia que tiene la fase de preproducción y limpieza de los datos en un análisis de los datos.\n",
        "\n",
        "* En la realización del reto dos quedo afirmado que el modelo K-means no es el adecuado para clasificar la calidad del, por lo cual el método del codo no nos será de utilidad para identificar clusters.\n",
        "\n",
        "* Nos percatamos hay un 40% de mantos subterráneos con semáforo verde, mientras que en el color rojo se encuentra el 36% y el resto en color amarillo.\n",
        "\n",
        "* Los atributos que más aportan valor al modelo son las relacionas a que si el agua cumple o no con algún indicador, ya que indican calidad de agua.\n",
        "\n",
        "*\tEl clasificador más óptimo será el de Random Forest, dado que en todos los scores de diferentes métricas como \"accuracy\", \"recall\" y \"precision\" muestra mejores resultados en comparación al modelo del Decision Tree, también lo confirma la Curva Precision-Recall, con una media de 0.98 en la precision del modelo con Random Forest en comparación al 0.93 del Decision Tree, no sólo eso sino que además la matriz de confusión muestra que el modelo con Random Forest clasifica mejor los Verdaderos Positivos, Falsos Positivos, Falsos Negativos y Verdaderos Negativos.\n"
      ],
      "metadata": {
        "id": "JktDd37QVmKU"
      }
    }
  ],
  "metadata": {
    "kernelspec": {
      "display_name": "Python 3.7.9 64-bit",
      "language": "python",
      "name": "python3"
    },
    "language_info": {
      "codemirror_mode": {
        "name": "ipython",
        "version": 3
      },
      "file_extension": ".py",
      "mimetype": "text/x-python",
      "name": "python",
      "nbconvert_exporter": "python",
      "pygments_lexer": "ipython3",
      "version": "3.7.9"
    },
    "vscode": {
      "interpreter": {
        "hash": "4cc8399ad2fcff87c0a889d6f8ce14be13f0276c69f618254318f5760629e833"
      }
    },
    "colab": {
      "provenance": [],
      "include_colab_link": true
    }
  },
  "nbformat": 4,
  "nbformat_minor": 0
}