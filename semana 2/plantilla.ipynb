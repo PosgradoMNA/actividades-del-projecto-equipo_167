{
  "cells": [
    {
      "cell_type": "markdown",
      "metadata": {
        "colab_type": "text",
        "id": "view-in-github"
      },
      "source": [
        "<a href=\"https://colab.research.google.com/github/tec03/ParaAssignment01-/blob/main/assignment01.ipynb\" target=\"_parent\"><img src=\"https://colab.research.google.com/assets/colab-badge.svg\" alt=\"Open In Colab\"/></a>"
      ]
    },
    {
      "cell_type": "code",
      "execution_count": null,
      "metadata": {
        "colab": {
          "base_uri": "https://localhost:8080/"
        },
        "id": "LzUSMM79NR9P",
        "outputId": "0e6cb421-1096-426a-b31a-f61d059def81"
      },
      "outputs": [
        {
          "name": "stdout",
          "output_type": "stream",
          "text": [
            "assignment01 for GitJobish03 and edited in git, and 18\n"
          ]
        }
      ],
      "source": [
        "print('assignment01 for GitJobish03 and edited in git, and 18')"
      ]
    },
    {
      "cell_type": "markdown",
      "metadata": {},
      "source": [
        "Proyecto final - Avance 1"
      ]
    },
    {
      "cell_type": "markdown",
      "metadata": {},
      "source": [
        "1. Buscar en Internet un conjunto de datos que utilizará a lo largo del módulo de aprendizaje.\n",
        "\n",
        "        El conjunto de datos puede provenir de cualquier portal de Internet que maneje datos abiertos o puede obtenerse de una empresa u organización.\n",
        "        El conjunto de datos puede ser sobre cualquier tema, pero cuidando que esté relacionado con un problema social, ambiental o económico.\n",
        "\n",
        "\n",
        "2. Redacción de una página, en jupyter notebook, como máximo que incluya lo siguiente:\n",
        "\n",
        "        El nombre que caracteriza el conjunto de datos.\n",
        "        La organización que lo generó.\n",
        "        Incluya un enlace de Internet donde se puedan descargar el base de datos en línea\n",
        "        Describe el conjunto de datos. ¿Qué datos contiene?\n",
        "        ¿Cuáles son algunas de las preguntas de investigación que podría responder con estos datos? Enumere al menos OCHO (no responda las preguntas).\n",
        "        ¿Qué actor (empresa, sector de la sociedad, organismo descentralizado, gobierno, etc.) estaría interesado en las preguntas mencionadas que identificó?\n",
        "\n",
        "\n",
        "Algunos aspectos a tener en cuenta para la selección del conjunto de datos:\n",
        "\n",
        "        Asegúrese de que el conjunto de datos sea adecuado para permitir la realización de modelos y análisis estadísticos.\n",
        "        En cuanto a la cantidad de datos, el conjunto de datos debe ser del orden de miles de filas.\n",
        "        Sin embargo, para esta unidad de entrenamiento, evite que el conjunto de datos sea demasiado grande.\n",
        "        Pero mientras podamos realizar análisis en el conjunto de datos, estaremos bien.\n",
        "        Algunas herramientas solo permiten un máximo de un millón de registros, pero los conjuntos de datos del orden de millones de filas ralentizarán la computadora.\n",
        "        Es probable que a medida que avance en el tema, descubra que el conjunto de datos no es lo suficientemente detallado.\n",
        "            En este caso, podrá complementarlo con conjuntos de datos relacionados adicionales.\n",
        "            Por ejemplo, si el conjunto de datos es sobre la demanda de un hotel, se puede complementar con datos como el día de la semana y datos meteorológicos como la temperatura y la humedad relativa.\n",
        "        El conjunto de datos original que encontró debe estar en formato de hoja de cálculo (XLS, XLSX, CSV).\n",
        "\n",
        "Aquí hay algunas fuentes de datos:\n",
        "\n",
        "        UCI Machine Learning Repository. (s. f.). UCI. Recuperado 9 de Abril de 2022, de https://archive.ics.uci.edu/ml/index.php (Enlaces a un sitio externo.) \n",
        "        Kaggle: Your Machine Learning and Data Science Community. (s. f.). Kaggle. Recuperado 9 de Abril de 2022, de https://www.kaggle.com (Enlaces a un sitio externo.) \n",
        "        Encuesta Nacional de Salud y Nutrición. (s. f.). ENSANUT. Recuperado 9 de Abril de 2022, de https://ensanut.insp.mx/ (Enlaces a un sitio externo.) \n",
        "        NYC Wi-Fi Hotspot Locations. (s. f.). NYC Open Data. Recuperado 9 de Abril de 2022, de https://data.cityofnewyork.us/Social-Services/NYC-Wi-Fi-Hotspot-Locations/a9we-mtpn (Enlaces a un sitio externo.) \n",
        "\n",
        "        Data | Centers for Disease Control and Prevention. (s. f.). CDC. Recuperado 9 de abril de 2022, de https://data.cdc.gov/ (Enlaces a un sitio externo.) \n",
        "\n",
        "        Indicators | Data. (s. f.). World Bank. Recuperado 9 de abril de 2022, de https://data.worldbank.org/indicator (Enlaces a un sitio externo.) \n",
        "\n",
        "        DataMexico. (s. f.). Data México. Recuperado 9 de abril de 2022, de https://datamexico.org/ (Enlaces a un sitio externo.) \n",
        "\n",
        "        Redireccionamiento. (s. f.). INEGI. Recuperado 9 de abril de 2022, de https://en.www.inegi.org.mx/servicios/datosabiertos.html (Enlaces a un sitio externo.) \n",
        "\n",
        "        Portal de Datos Abiertos de la CDMX. (s. f.). Agencia Digital de Innovación Pública. https://datos.cdmx.gob.mx/pages/home"
      ]
    }
  ],
  "metadata": {
    "colab": {
      "include_colab_link": true,
      "name": "assignment01.ipynb",
      "provenance": []
    },
    "kernelspec": {
      "display_name": "Python 3.7.9 ('PressCurves')",
      "language": "python",
      "name": "python3"
    },
    "language_info": {
      "name": "python",
      "version": "3.7.9"
    },
    "vscode": {
      "interpreter": {
        "hash": "1fe9a8cd2f9ad928380f51f843a16884a4f86c372763f5ef1c9176e8f8f59446"
      }
    }
  },
  "nbformat": 4,
  "nbformat_minor": 0
}
